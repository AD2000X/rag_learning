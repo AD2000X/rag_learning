{
  "nbformat": 4,
  "nbformat_minor": 0,
  "metadata": {
    "colab": {
      "provenance": [],
      "machine_shape": "hm",
      "gpuType": "A100"
    },
    "kernelspec": {
      "name": "python3",
      "display_name": "Python 3"
    },
    "language_info": {
      "name": "python"
    },
    "accelerator": "GPU",
    "widgets": {
      "application/vnd.jupyter.widget-state+json": {
        "85753ad882094059997016e63dd99b6d": {
          "model_module": "@jupyter-widgets/controls",
          "model_name": "HBoxModel",
          "model_module_version": "1.5.0",
          "state": {
            "_dom_classes": [],
            "_model_module": "@jupyter-widgets/controls",
            "_model_module_version": "1.5.0",
            "_model_name": "HBoxModel",
            "_view_count": null,
            "_view_module": "@jupyter-widgets/controls",
            "_view_module_version": "1.5.0",
            "_view_name": "HBoxView",
            "box_style": "",
            "children": [
              "IPY_MODEL_c888cf7c4d364420afb02e27809f2113",
              "IPY_MODEL_5d1b8a58de7c42f2b07b0461de8e84e4",
              "IPY_MODEL_148a34f3e6194797809659fc1ed5fa67"
            ],
            "layout": "IPY_MODEL_0b2954fbb15243ff9a5b2cec6efe8cd3"
          }
        },
        "c888cf7c4d364420afb02e27809f2113": {
          "model_module": "@jupyter-widgets/controls",
          "model_name": "HTMLModel",
          "model_module_version": "1.5.0",
          "state": {
            "_dom_classes": [],
            "_model_module": "@jupyter-widgets/controls",
            "_model_module_version": "1.5.0",
            "_model_name": "HTMLModel",
            "_view_count": null,
            "_view_module": "@jupyter-widgets/controls",
            "_view_module_version": "1.5.0",
            "_view_name": "HTMLView",
            "description": "",
            "description_tooltip": null,
            "layout": "IPY_MODEL_0e52586b48b243e0820d1aeb6d50213e",
            "placeholder": "​",
            "style": "IPY_MODEL_d9c0d3fe01b04c0ba12af3719578394f",
            "value": "100%"
          }
        },
        "5d1b8a58de7c42f2b07b0461de8e84e4": {
          "model_module": "@jupyter-widgets/controls",
          "model_name": "FloatProgressModel",
          "model_module_version": "1.5.0",
          "state": {
            "_dom_classes": [],
            "_model_module": "@jupyter-widgets/controls",
            "_model_module_version": "1.5.0",
            "_model_name": "FloatProgressModel",
            "_view_count": null,
            "_view_module": "@jupyter-widgets/controls",
            "_view_module_version": "1.5.0",
            "_view_name": "ProgressView",
            "bar_style": "success",
            "description": "",
            "description_tooltip": null,
            "layout": "IPY_MODEL_459d3f5905c049098c3be8545775c970",
            "max": 948,
            "min": 0,
            "orientation": "horizontal",
            "style": "IPY_MODEL_f82f8cac5f62416288390f8cb505ab50",
            "value": 948
          }
        },
        "148a34f3e6194797809659fc1ed5fa67": {
          "model_module": "@jupyter-widgets/controls",
          "model_name": "HTMLModel",
          "model_module_version": "1.5.0",
          "state": {
            "_dom_classes": [],
            "_model_module": "@jupyter-widgets/controls",
            "_model_module_version": "1.5.0",
            "_model_name": "HTMLModel",
            "_view_count": null,
            "_view_module": "@jupyter-widgets/controls",
            "_view_module_version": "1.5.0",
            "_view_name": "HTMLView",
            "description": "",
            "description_tooltip": null,
            "layout": "IPY_MODEL_de037850d3ef4011a4dbb7ba6c6cc52d",
            "placeholder": "​",
            "style": "IPY_MODEL_dfa69c9fe6f64547ae59b82fb915a086",
            "value": " 948/948 [02:12&lt;00:00,  7.16it/s]"
          }
        },
        "0b2954fbb15243ff9a5b2cec6efe8cd3": {
          "model_module": "@jupyter-widgets/base",
          "model_name": "LayoutModel",
          "model_module_version": "1.2.0",
          "state": {
            "_model_module": "@jupyter-widgets/base",
            "_model_module_version": "1.2.0",
            "_model_name": "LayoutModel",
            "_view_count": null,
            "_view_module": "@jupyter-widgets/base",
            "_view_module_version": "1.2.0",
            "_view_name": "LayoutView",
            "align_content": null,
            "align_items": null,
            "align_self": null,
            "border": null,
            "bottom": null,
            "display": null,
            "flex": null,
            "flex_flow": null,
            "grid_area": null,
            "grid_auto_columns": null,
            "grid_auto_flow": null,
            "grid_auto_rows": null,
            "grid_column": null,
            "grid_gap": null,
            "grid_row": null,
            "grid_template_areas": null,
            "grid_template_columns": null,
            "grid_template_rows": null,
            "height": null,
            "justify_content": null,
            "justify_items": null,
            "left": null,
            "margin": null,
            "max_height": null,
            "max_width": null,
            "min_height": null,
            "min_width": null,
            "object_fit": null,
            "object_position": null,
            "order": null,
            "overflow": null,
            "overflow_x": null,
            "overflow_y": null,
            "padding": null,
            "right": null,
            "top": null,
            "visibility": null,
            "width": null
          }
        },
        "0e52586b48b243e0820d1aeb6d50213e": {
          "model_module": "@jupyter-widgets/base",
          "model_name": "LayoutModel",
          "model_module_version": "1.2.0",
          "state": {
            "_model_module": "@jupyter-widgets/base",
            "_model_module_version": "1.2.0",
            "_model_name": "LayoutModel",
            "_view_count": null,
            "_view_module": "@jupyter-widgets/base",
            "_view_module_version": "1.2.0",
            "_view_name": "LayoutView",
            "align_content": null,
            "align_items": null,
            "align_self": null,
            "border": null,
            "bottom": null,
            "display": null,
            "flex": null,
            "flex_flow": null,
            "grid_area": null,
            "grid_auto_columns": null,
            "grid_auto_flow": null,
            "grid_auto_rows": null,
            "grid_column": null,
            "grid_gap": null,
            "grid_row": null,
            "grid_template_areas": null,
            "grid_template_columns": null,
            "grid_template_rows": null,
            "height": null,
            "justify_content": null,
            "justify_items": null,
            "left": null,
            "margin": null,
            "max_height": null,
            "max_width": null,
            "min_height": null,
            "min_width": null,
            "object_fit": null,
            "object_position": null,
            "order": null,
            "overflow": null,
            "overflow_x": null,
            "overflow_y": null,
            "padding": null,
            "right": null,
            "top": null,
            "visibility": null,
            "width": null
          }
        },
        "d9c0d3fe01b04c0ba12af3719578394f": {
          "model_module": "@jupyter-widgets/controls",
          "model_name": "DescriptionStyleModel",
          "model_module_version": "1.5.0",
          "state": {
            "_model_module": "@jupyter-widgets/controls",
            "_model_module_version": "1.5.0",
            "_model_name": "DescriptionStyleModel",
            "_view_count": null,
            "_view_module": "@jupyter-widgets/base",
            "_view_module_version": "1.2.0",
            "_view_name": "StyleView",
            "description_width": ""
          }
        },
        "459d3f5905c049098c3be8545775c970": {
          "model_module": "@jupyter-widgets/base",
          "model_name": "LayoutModel",
          "model_module_version": "1.2.0",
          "state": {
            "_model_module": "@jupyter-widgets/base",
            "_model_module_version": "1.2.0",
            "_model_name": "LayoutModel",
            "_view_count": null,
            "_view_module": "@jupyter-widgets/base",
            "_view_module_version": "1.2.0",
            "_view_name": "LayoutView",
            "align_content": null,
            "align_items": null,
            "align_self": null,
            "border": null,
            "bottom": null,
            "display": null,
            "flex": null,
            "flex_flow": null,
            "grid_area": null,
            "grid_auto_columns": null,
            "grid_auto_flow": null,
            "grid_auto_rows": null,
            "grid_column": null,
            "grid_gap": null,
            "grid_row": null,
            "grid_template_areas": null,
            "grid_template_columns": null,
            "grid_template_rows": null,
            "height": null,
            "justify_content": null,
            "justify_items": null,
            "left": null,
            "margin": null,
            "max_height": null,
            "max_width": null,
            "min_height": null,
            "min_width": null,
            "object_fit": null,
            "object_position": null,
            "order": null,
            "overflow": null,
            "overflow_x": null,
            "overflow_y": null,
            "padding": null,
            "right": null,
            "top": null,
            "visibility": null,
            "width": null
          }
        },
        "f82f8cac5f62416288390f8cb505ab50": {
          "model_module": "@jupyter-widgets/controls",
          "model_name": "ProgressStyleModel",
          "model_module_version": "1.5.0",
          "state": {
            "_model_module": "@jupyter-widgets/controls",
            "_model_module_version": "1.5.0",
            "_model_name": "ProgressStyleModel",
            "_view_count": null,
            "_view_module": "@jupyter-widgets/base",
            "_view_module_version": "1.2.0",
            "_view_name": "StyleView",
            "bar_color": null,
            "description_width": ""
          }
        },
        "de037850d3ef4011a4dbb7ba6c6cc52d": {
          "model_module": "@jupyter-widgets/base",
          "model_name": "LayoutModel",
          "model_module_version": "1.2.0",
          "state": {
            "_model_module": "@jupyter-widgets/base",
            "_model_module_version": "1.2.0",
            "_model_name": "LayoutModel",
            "_view_count": null,
            "_view_module": "@jupyter-widgets/base",
            "_view_module_version": "1.2.0",
            "_view_name": "LayoutView",
            "align_content": null,
            "align_items": null,
            "align_self": null,
            "border": null,
            "bottom": null,
            "display": null,
            "flex": null,
            "flex_flow": null,
            "grid_area": null,
            "grid_auto_columns": null,
            "grid_auto_flow": null,
            "grid_auto_rows": null,
            "grid_column": null,
            "grid_gap": null,
            "grid_row": null,
            "grid_template_areas": null,
            "grid_template_columns": null,
            "grid_template_rows": null,
            "height": null,
            "justify_content": null,
            "justify_items": null,
            "left": null,
            "margin": null,
            "max_height": null,
            "max_width": null,
            "min_height": null,
            "min_width": null,
            "object_fit": null,
            "object_position": null,
            "order": null,
            "overflow": null,
            "overflow_x": null,
            "overflow_y": null,
            "padding": null,
            "right": null,
            "top": null,
            "visibility": null,
            "width": null
          }
        },
        "dfa69c9fe6f64547ae59b82fb915a086": {
          "model_module": "@jupyter-widgets/controls",
          "model_name": "DescriptionStyleModel",
          "model_module_version": "1.5.0",
          "state": {
            "_model_module": "@jupyter-widgets/controls",
            "_model_module_version": "1.5.0",
            "_model_name": "DescriptionStyleModel",
            "_view_count": null,
            "_view_module": "@jupyter-widgets/base",
            "_view_module_version": "1.2.0",
            "_view_name": "StyleView",
            "description_width": ""
          }
        },
        "b38c8721717749d4b6856e06cebdf0d0": {
          "model_module": "@jupyter-widgets/controls",
          "model_name": "HBoxModel",
          "model_module_version": "1.5.0",
          "state": {
            "_dom_classes": [],
            "_model_module": "@jupyter-widgets/controls",
            "_model_module_version": "1.5.0",
            "_model_name": "HBoxModel",
            "_view_count": null,
            "_view_module": "@jupyter-widgets/controls",
            "_view_module_version": "1.5.0",
            "_view_name": "HBoxView",
            "box_style": "",
            "children": [
              "IPY_MODEL_c73f2971ccff43b08de3b517fddf3896",
              "IPY_MODEL_d6834141230442528e63b60ce18fc659",
              "IPY_MODEL_773e118ecc254b6ea35e2a45c1f4b3d0"
            ],
            "layout": "IPY_MODEL_0eaecb813070495386249486fc6bda55"
          }
        },
        "c73f2971ccff43b08de3b517fddf3896": {
          "model_module": "@jupyter-widgets/controls",
          "model_name": "HTMLModel",
          "model_module_version": "1.5.0",
          "state": {
            "_dom_classes": [],
            "_model_module": "@jupyter-widgets/controls",
            "_model_module_version": "1.5.0",
            "_model_name": "HTMLModel",
            "_view_count": null,
            "_view_module": "@jupyter-widgets/controls",
            "_view_module_version": "1.5.0",
            "_view_name": "HTMLView",
            "description": "",
            "description_tooltip": null,
            "layout": "IPY_MODEL_06b4607b81ec4a6ebbdaa1aace436c74",
            "placeholder": "​",
            "style": "IPY_MODEL_627b7e985da94af5ac7c123fb917f7be",
            "value": "100%"
          }
        },
        "d6834141230442528e63b60ce18fc659": {
          "model_module": "@jupyter-widgets/controls",
          "model_name": "FloatProgressModel",
          "model_module_version": "1.5.0",
          "state": {
            "_dom_classes": [],
            "_model_module": "@jupyter-widgets/controls",
            "_model_module_version": "1.5.0",
            "_model_name": "FloatProgressModel",
            "_view_count": null,
            "_view_module": "@jupyter-widgets/controls",
            "_view_module_version": "1.5.0",
            "_view_name": "ProgressView",
            "bar_style": "success",
            "description": "",
            "description_tooltip": null,
            "layout": "IPY_MODEL_adc1bfd8e1064f5d8896a5e930654cdc",
            "max": 65,
            "min": 0,
            "orientation": "horizontal",
            "style": "IPY_MODEL_29a0fd9bc1b14053af33c8437c0143b3",
            "value": 65
          }
        },
        "773e118ecc254b6ea35e2a45c1f4b3d0": {
          "model_module": "@jupyter-widgets/controls",
          "model_name": "HTMLModel",
          "model_module_version": "1.5.0",
          "state": {
            "_dom_classes": [],
            "_model_module": "@jupyter-widgets/controls",
            "_model_module_version": "1.5.0",
            "_model_name": "HTMLModel",
            "_view_count": null,
            "_view_module": "@jupyter-widgets/controls",
            "_view_module_version": "1.5.0",
            "_view_name": "HTMLView",
            "description": "",
            "description_tooltip": null,
            "layout": "IPY_MODEL_7e903509212d40f9a114cc3b1b9ac1a9",
            "placeholder": "​",
            "style": "IPY_MODEL_d4885f74a4cc415da47efc0dc819bcdd",
            "value": " 65/65 [00:09&lt;00:00,  7.00it/s]"
          }
        },
        "0eaecb813070495386249486fc6bda55": {
          "model_module": "@jupyter-widgets/base",
          "model_name": "LayoutModel",
          "model_module_version": "1.2.0",
          "state": {
            "_model_module": "@jupyter-widgets/base",
            "_model_module_version": "1.2.0",
            "_model_name": "LayoutModel",
            "_view_count": null,
            "_view_module": "@jupyter-widgets/base",
            "_view_module_version": "1.2.0",
            "_view_name": "LayoutView",
            "align_content": null,
            "align_items": null,
            "align_self": null,
            "border": null,
            "bottom": null,
            "display": null,
            "flex": null,
            "flex_flow": null,
            "grid_area": null,
            "grid_auto_columns": null,
            "grid_auto_flow": null,
            "grid_auto_rows": null,
            "grid_column": null,
            "grid_gap": null,
            "grid_row": null,
            "grid_template_areas": null,
            "grid_template_columns": null,
            "grid_template_rows": null,
            "height": null,
            "justify_content": null,
            "justify_items": null,
            "left": null,
            "margin": null,
            "max_height": null,
            "max_width": null,
            "min_height": null,
            "min_width": null,
            "object_fit": null,
            "object_position": null,
            "order": null,
            "overflow": null,
            "overflow_x": null,
            "overflow_y": null,
            "padding": null,
            "right": null,
            "top": null,
            "visibility": null,
            "width": null
          }
        },
        "06b4607b81ec4a6ebbdaa1aace436c74": {
          "model_module": "@jupyter-widgets/base",
          "model_name": "LayoutModel",
          "model_module_version": "1.2.0",
          "state": {
            "_model_module": "@jupyter-widgets/base",
            "_model_module_version": "1.2.0",
            "_model_name": "LayoutModel",
            "_view_count": null,
            "_view_module": "@jupyter-widgets/base",
            "_view_module_version": "1.2.0",
            "_view_name": "LayoutView",
            "align_content": null,
            "align_items": null,
            "align_self": null,
            "border": null,
            "bottom": null,
            "display": null,
            "flex": null,
            "flex_flow": null,
            "grid_area": null,
            "grid_auto_columns": null,
            "grid_auto_flow": null,
            "grid_auto_rows": null,
            "grid_column": null,
            "grid_gap": null,
            "grid_row": null,
            "grid_template_areas": null,
            "grid_template_columns": null,
            "grid_template_rows": null,
            "height": null,
            "justify_content": null,
            "justify_items": null,
            "left": null,
            "margin": null,
            "max_height": null,
            "max_width": null,
            "min_height": null,
            "min_width": null,
            "object_fit": null,
            "object_position": null,
            "order": null,
            "overflow": null,
            "overflow_x": null,
            "overflow_y": null,
            "padding": null,
            "right": null,
            "top": null,
            "visibility": null,
            "width": null
          }
        },
        "627b7e985da94af5ac7c123fb917f7be": {
          "model_module": "@jupyter-widgets/controls",
          "model_name": "DescriptionStyleModel",
          "model_module_version": "1.5.0",
          "state": {
            "_model_module": "@jupyter-widgets/controls",
            "_model_module_version": "1.5.0",
            "_model_name": "DescriptionStyleModel",
            "_view_count": null,
            "_view_module": "@jupyter-widgets/base",
            "_view_module_version": "1.2.0",
            "_view_name": "StyleView",
            "description_width": ""
          }
        },
        "adc1bfd8e1064f5d8896a5e930654cdc": {
          "model_module": "@jupyter-widgets/base",
          "model_name": "LayoutModel",
          "model_module_version": "1.2.0",
          "state": {
            "_model_module": "@jupyter-widgets/base",
            "_model_module_version": "1.2.0",
            "_model_name": "LayoutModel",
            "_view_count": null,
            "_view_module": "@jupyter-widgets/base",
            "_view_module_version": "1.2.0",
            "_view_name": "LayoutView",
            "align_content": null,
            "align_items": null,
            "align_self": null,
            "border": null,
            "bottom": null,
            "display": null,
            "flex": null,
            "flex_flow": null,
            "grid_area": null,
            "grid_auto_columns": null,
            "grid_auto_flow": null,
            "grid_auto_rows": null,
            "grid_column": null,
            "grid_gap": null,
            "grid_row": null,
            "grid_template_areas": null,
            "grid_template_columns": null,
            "grid_template_rows": null,
            "height": null,
            "justify_content": null,
            "justify_items": null,
            "left": null,
            "margin": null,
            "max_height": null,
            "max_width": null,
            "min_height": null,
            "min_width": null,
            "object_fit": null,
            "object_position": null,
            "order": null,
            "overflow": null,
            "overflow_x": null,
            "overflow_y": null,
            "padding": null,
            "right": null,
            "top": null,
            "visibility": null,
            "width": null
          }
        },
        "29a0fd9bc1b14053af33c8437c0143b3": {
          "model_module": "@jupyter-widgets/controls",
          "model_name": "ProgressStyleModel",
          "model_module_version": "1.5.0",
          "state": {
            "_model_module": "@jupyter-widgets/controls",
            "_model_module_version": "1.5.0",
            "_model_name": "ProgressStyleModel",
            "_view_count": null,
            "_view_module": "@jupyter-widgets/base",
            "_view_module_version": "1.2.0",
            "_view_name": "StyleView",
            "bar_color": null,
            "description_width": ""
          }
        },
        "7e903509212d40f9a114cc3b1b9ac1a9": {
          "model_module": "@jupyter-widgets/base",
          "model_name": "LayoutModel",
          "model_module_version": "1.2.0",
          "state": {
            "_model_module": "@jupyter-widgets/base",
            "_model_module_version": "1.2.0",
            "_model_name": "LayoutModel",
            "_view_count": null,
            "_view_module": "@jupyter-widgets/base",
            "_view_module_version": "1.2.0",
            "_view_name": "LayoutView",
            "align_content": null,
            "align_items": null,
            "align_self": null,
            "border": null,
            "bottom": null,
            "display": null,
            "flex": null,
            "flex_flow": null,
            "grid_area": null,
            "grid_auto_columns": null,
            "grid_auto_flow": null,
            "grid_auto_rows": null,
            "grid_column": null,
            "grid_gap": null,
            "grid_row": null,
            "grid_template_areas": null,
            "grid_template_columns": null,
            "grid_template_rows": null,
            "height": null,
            "justify_content": null,
            "justify_items": null,
            "left": null,
            "margin": null,
            "max_height": null,
            "max_width": null,
            "min_height": null,
            "min_width": null,
            "object_fit": null,
            "object_position": null,
            "order": null,
            "overflow": null,
            "overflow_x": null,
            "overflow_y": null,
            "padding": null,
            "right": null,
            "top": null,
            "visibility": null,
            "width": null
          }
        },
        "d4885f74a4cc415da47efc0dc819bcdd": {
          "model_module": "@jupyter-widgets/controls",
          "model_name": "DescriptionStyleModel",
          "model_module_version": "1.5.0",
          "state": {
            "_model_module": "@jupyter-widgets/controls",
            "_model_module_version": "1.5.0",
            "_model_name": "DescriptionStyleModel",
            "_view_count": null,
            "_view_module": "@jupyter-widgets/base",
            "_view_module_version": "1.2.0",
            "_view_name": "StyleView",
            "description_width": ""
          }
        },
        "7b34d70db4814eb0accaa4ea7720ef0a": {
          "model_module": "@jupyter-widgets/controls",
          "model_name": "HBoxModel",
          "model_module_version": "1.5.0",
          "state": {
            "_dom_classes": [],
            "_model_module": "@jupyter-widgets/controls",
            "_model_module_version": "1.5.0",
            "_model_name": "HBoxModel",
            "_view_count": null,
            "_view_module": "@jupyter-widgets/controls",
            "_view_module_version": "1.5.0",
            "_view_name": "HBoxView",
            "box_style": "",
            "children": [
              "IPY_MODEL_e51025c94f2444dea83c9cd55a4a3374",
              "IPY_MODEL_6cd41b63803e439a86e180b1777b63fd",
              "IPY_MODEL_860f9b946e8d4e24b8b14a0003796fee"
            ],
            "layout": "IPY_MODEL_a058bb9a67bc4b678e640349d7f69f06"
          }
        },
        "e51025c94f2444dea83c9cd55a4a3374": {
          "model_module": "@jupyter-widgets/controls",
          "model_name": "HTMLModel",
          "model_module_version": "1.5.0",
          "state": {
            "_dom_classes": [],
            "_model_module": "@jupyter-widgets/controls",
            "_model_module_version": "1.5.0",
            "_model_name": "HTMLModel",
            "_view_count": null,
            "_view_module": "@jupyter-widgets/controls",
            "_view_module_version": "1.5.0",
            "_view_name": "HTMLView",
            "description": "",
            "description_tooltip": null,
            "layout": "IPY_MODEL_a09b18a0b77f42348769fd8ccb427bdb",
            "placeholder": "​",
            "style": "IPY_MODEL_7b73e81427fc4d5c8d11cede360e2bee",
            "value": "100%"
          }
        },
        "6cd41b63803e439a86e180b1777b63fd": {
          "model_module": "@jupyter-widgets/controls",
          "model_name": "FloatProgressModel",
          "model_module_version": "1.5.0",
          "state": {
            "_dom_classes": [],
            "_model_module": "@jupyter-widgets/controls",
            "_model_module_version": "1.5.0",
            "_model_name": "FloatProgressModel",
            "_view_count": null,
            "_view_module": "@jupyter-widgets/controls",
            "_view_module_version": "1.5.0",
            "_view_name": "ProgressView",
            "bar_style": "success",
            "description": "",
            "description_tooltip": null,
            "layout": "IPY_MODEL_cb3bcfee214b4c8cb733d22d16f41ec7",
            "max": 65,
            "min": 0,
            "orientation": "horizontal",
            "style": "IPY_MODEL_3e3d1bf13bce4528a39585416e9c4cdd",
            "value": 65
          }
        },
        "860f9b946e8d4e24b8b14a0003796fee": {
          "model_module": "@jupyter-widgets/controls",
          "model_name": "HTMLModel",
          "model_module_version": "1.5.0",
          "state": {
            "_dom_classes": [],
            "_model_module": "@jupyter-widgets/controls",
            "_model_module_version": "1.5.0",
            "_model_name": "HTMLModel",
            "_view_count": null,
            "_view_module": "@jupyter-widgets/controls",
            "_view_module_version": "1.5.0",
            "_view_name": "HTMLView",
            "description": "",
            "description_tooltip": null,
            "layout": "IPY_MODEL_19d863dff2a042099838b3afa6a0592e",
            "placeholder": "​",
            "style": "IPY_MODEL_b3c479a152514e6095a58e325225637d",
            "value": " 65/65 [00:00&lt;00:00, 211.12it/s]"
          }
        },
        "a058bb9a67bc4b678e640349d7f69f06": {
          "model_module": "@jupyter-widgets/base",
          "model_name": "LayoutModel",
          "model_module_version": "1.2.0",
          "state": {
            "_model_module": "@jupyter-widgets/base",
            "_model_module_version": "1.2.0",
            "_model_name": "LayoutModel",
            "_view_count": null,
            "_view_module": "@jupyter-widgets/base",
            "_view_module_version": "1.2.0",
            "_view_name": "LayoutView",
            "align_content": null,
            "align_items": null,
            "align_self": null,
            "border": null,
            "bottom": null,
            "display": null,
            "flex": null,
            "flex_flow": null,
            "grid_area": null,
            "grid_auto_columns": null,
            "grid_auto_flow": null,
            "grid_auto_rows": null,
            "grid_column": null,
            "grid_gap": null,
            "grid_row": null,
            "grid_template_areas": null,
            "grid_template_columns": null,
            "grid_template_rows": null,
            "height": null,
            "justify_content": null,
            "justify_items": null,
            "left": null,
            "margin": null,
            "max_height": null,
            "max_width": null,
            "min_height": null,
            "min_width": null,
            "object_fit": null,
            "object_position": null,
            "order": null,
            "overflow": null,
            "overflow_x": null,
            "overflow_y": null,
            "padding": null,
            "right": null,
            "top": null,
            "visibility": null,
            "width": null
          }
        },
        "a09b18a0b77f42348769fd8ccb427bdb": {
          "model_module": "@jupyter-widgets/base",
          "model_name": "LayoutModel",
          "model_module_version": "1.2.0",
          "state": {
            "_model_module": "@jupyter-widgets/base",
            "_model_module_version": "1.2.0",
            "_model_name": "LayoutModel",
            "_view_count": null,
            "_view_module": "@jupyter-widgets/base",
            "_view_module_version": "1.2.0",
            "_view_name": "LayoutView",
            "align_content": null,
            "align_items": null,
            "align_self": null,
            "border": null,
            "bottom": null,
            "display": null,
            "flex": null,
            "flex_flow": null,
            "grid_area": null,
            "grid_auto_columns": null,
            "grid_auto_flow": null,
            "grid_auto_rows": null,
            "grid_column": null,
            "grid_gap": null,
            "grid_row": null,
            "grid_template_areas": null,
            "grid_template_columns": null,
            "grid_template_rows": null,
            "height": null,
            "justify_content": null,
            "justify_items": null,
            "left": null,
            "margin": null,
            "max_height": null,
            "max_width": null,
            "min_height": null,
            "min_width": null,
            "object_fit": null,
            "object_position": null,
            "order": null,
            "overflow": null,
            "overflow_x": null,
            "overflow_y": null,
            "padding": null,
            "right": null,
            "top": null,
            "visibility": null,
            "width": null
          }
        },
        "7b73e81427fc4d5c8d11cede360e2bee": {
          "model_module": "@jupyter-widgets/controls",
          "model_name": "DescriptionStyleModel",
          "model_module_version": "1.5.0",
          "state": {
            "_model_module": "@jupyter-widgets/controls",
            "_model_module_version": "1.5.0",
            "_model_name": "DescriptionStyleModel",
            "_view_count": null,
            "_view_module": "@jupyter-widgets/base",
            "_view_module_version": "1.2.0",
            "_view_name": "StyleView",
            "description_width": ""
          }
        },
        "cb3bcfee214b4c8cb733d22d16f41ec7": {
          "model_module": "@jupyter-widgets/base",
          "model_name": "LayoutModel",
          "model_module_version": "1.2.0",
          "state": {
            "_model_module": "@jupyter-widgets/base",
            "_model_module_version": "1.2.0",
            "_model_name": "LayoutModel",
            "_view_count": null,
            "_view_module": "@jupyter-widgets/base",
            "_view_module_version": "1.2.0",
            "_view_name": "LayoutView",
            "align_content": null,
            "align_items": null,
            "align_self": null,
            "border": null,
            "bottom": null,
            "display": null,
            "flex": null,
            "flex_flow": null,
            "grid_area": null,
            "grid_auto_columns": null,
            "grid_auto_flow": null,
            "grid_auto_rows": null,
            "grid_column": null,
            "grid_gap": null,
            "grid_row": null,
            "grid_template_areas": null,
            "grid_template_columns": null,
            "grid_template_rows": null,
            "height": null,
            "justify_content": null,
            "justify_items": null,
            "left": null,
            "margin": null,
            "max_height": null,
            "max_width": null,
            "min_height": null,
            "min_width": null,
            "object_fit": null,
            "object_position": null,
            "order": null,
            "overflow": null,
            "overflow_x": null,
            "overflow_y": null,
            "padding": null,
            "right": null,
            "top": null,
            "visibility": null,
            "width": null
          }
        },
        "3e3d1bf13bce4528a39585416e9c4cdd": {
          "model_module": "@jupyter-widgets/controls",
          "model_name": "ProgressStyleModel",
          "model_module_version": "1.5.0",
          "state": {
            "_model_module": "@jupyter-widgets/controls",
            "_model_module_version": "1.5.0",
            "_model_name": "ProgressStyleModel",
            "_view_count": null,
            "_view_module": "@jupyter-widgets/base",
            "_view_module_version": "1.2.0",
            "_view_name": "StyleView",
            "bar_color": null,
            "description_width": ""
          }
        },
        "19d863dff2a042099838b3afa6a0592e": {
          "model_module": "@jupyter-widgets/base",
          "model_name": "LayoutModel",
          "model_module_version": "1.2.0",
          "state": {
            "_model_module": "@jupyter-widgets/base",
            "_model_module_version": "1.2.0",
            "_model_name": "LayoutModel",
            "_view_count": null,
            "_view_module": "@jupyter-widgets/base",
            "_view_module_version": "1.2.0",
            "_view_name": "LayoutView",
            "align_content": null,
            "align_items": null,
            "align_self": null,
            "border": null,
            "bottom": null,
            "display": null,
            "flex": null,
            "flex_flow": null,
            "grid_area": null,
            "grid_auto_columns": null,
            "grid_auto_flow": null,
            "grid_auto_rows": null,
            "grid_column": null,
            "grid_gap": null,
            "grid_row": null,
            "grid_template_areas": null,
            "grid_template_columns": null,
            "grid_template_rows": null,
            "height": null,
            "justify_content": null,
            "justify_items": null,
            "left": null,
            "margin": null,
            "max_height": null,
            "max_width": null,
            "min_height": null,
            "min_width": null,
            "object_fit": null,
            "object_position": null,
            "order": null,
            "overflow": null,
            "overflow_x": null,
            "overflow_y": null,
            "padding": null,
            "right": null,
            "top": null,
            "visibility": null,
            "width": null
          }
        },
        "b3c479a152514e6095a58e325225637d": {
          "model_module": "@jupyter-widgets/controls",
          "model_name": "DescriptionStyleModel",
          "model_module_version": "1.5.0",
          "state": {
            "_model_module": "@jupyter-widgets/controls",
            "_model_module_version": "1.5.0",
            "_model_name": "DescriptionStyleModel",
            "_view_count": null,
            "_view_module": "@jupyter-widgets/base",
            "_view_module_version": "1.2.0",
            "_view_name": "StyleView",
            "description_width": ""
          }
        },
        "b4121f0a73154f429c063cd27749b4b0": {
          "model_module": "@jupyter-widgets/controls",
          "model_name": "HBoxModel",
          "model_module_version": "1.5.0",
          "state": {
            "_dom_classes": [],
            "_model_module": "@jupyter-widgets/controls",
            "_model_module_version": "1.5.0",
            "_model_name": "HBoxModel",
            "_view_count": null,
            "_view_module": "@jupyter-widgets/controls",
            "_view_module_version": "1.5.0",
            "_view_name": "HBoxView",
            "box_style": "",
            "children": [
              "IPY_MODEL_736a933e525b4b4488a9d70567480f67",
              "IPY_MODEL_27704a6aa6494b62b1b7a52b032ae552",
              "IPY_MODEL_2df5d5421f0c474094959ed10e7902a9"
            ],
            "layout": "IPY_MODEL_5ef5e6ff6926447092562ba682380c21"
          }
        },
        "736a933e525b4b4488a9d70567480f67": {
          "model_module": "@jupyter-widgets/controls",
          "model_name": "HTMLModel",
          "model_module_version": "1.5.0",
          "state": {
            "_dom_classes": [],
            "_model_module": "@jupyter-widgets/controls",
            "_model_module_version": "1.5.0",
            "_model_name": "HTMLModel",
            "_view_count": null,
            "_view_module": "@jupyter-widgets/controls",
            "_view_module_version": "1.5.0",
            "_view_name": "HTMLView",
            "description": "",
            "description_tooltip": null,
            "layout": "IPY_MODEL_ed3f8ac4eb9b4af7a5933bd256a20348",
            "placeholder": "​",
            "style": "IPY_MODEL_9c6d4f772d0f4b7dac298a4f2a3d4f38",
            "value": "100%"
          }
        },
        "27704a6aa6494b62b1b7a52b032ae552": {
          "model_module": "@jupyter-widgets/controls",
          "model_name": "FloatProgressModel",
          "model_module_version": "1.5.0",
          "state": {
            "_dom_classes": [],
            "_model_module": "@jupyter-widgets/controls",
            "_model_module_version": "1.5.0",
            "_model_name": "FloatProgressModel",
            "_view_count": null,
            "_view_module": "@jupyter-widgets/controls",
            "_view_module_version": "1.5.0",
            "_view_name": "ProgressView",
            "bar_style": "success",
            "description": "",
            "description_tooltip": null,
            "layout": "IPY_MODEL_9f0e0e6615c64f23af79c9033c80aa1a",
            "max": 65,
            "min": 0,
            "orientation": "horizontal",
            "style": "IPY_MODEL_01f2f22c0c49498ab8de183081692bb3",
            "value": 65
          }
        },
        "2df5d5421f0c474094959ed10e7902a9": {
          "model_module": "@jupyter-widgets/controls",
          "model_name": "HTMLModel",
          "model_module_version": "1.5.0",
          "state": {
            "_dom_classes": [],
            "_model_module": "@jupyter-widgets/controls",
            "_model_module_version": "1.5.0",
            "_model_name": "HTMLModel",
            "_view_count": null,
            "_view_module": "@jupyter-widgets/controls",
            "_view_module_version": "1.5.0",
            "_view_name": "HTMLView",
            "description": "",
            "description_tooltip": null,
            "layout": "IPY_MODEL_21970475830e459fad749eefe1cf6563",
            "placeholder": "​",
            "style": "IPY_MODEL_c964eec96b93486aa42e8befc016705b",
            "value": " 65/65 [00:09&lt;00:00,  7.08it/s]"
          }
        },
        "5ef5e6ff6926447092562ba682380c21": {
          "model_module": "@jupyter-widgets/base",
          "model_name": "LayoutModel",
          "model_module_version": "1.2.0",
          "state": {
            "_model_module": "@jupyter-widgets/base",
            "_model_module_version": "1.2.0",
            "_model_name": "LayoutModel",
            "_view_count": null,
            "_view_module": "@jupyter-widgets/base",
            "_view_module_version": "1.2.0",
            "_view_name": "LayoutView",
            "align_content": null,
            "align_items": null,
            "align_self": null,
            "border": null,
            "bottom": null,
            "display": null,
            "flex": null,
            "flex_flow": null,
            "grid_area": null,
            "grid_auto_columns": null,
            "grid_auto_flow": null,
            "grid_auto_rows": null,
            "grid_column": null,
            "grid_gap": null,
            "grid_row": null,
            "grid_template_areas": null,
            "grid_template_columns": null,
            "grid_template_rows": null,
            "height": null,
            "justify_content": null,
            "justify_items": null,
            "left": null,
            "margin": null,
            "max_height": null,
            "max_width": null,
            "min_height": null,
            "min_width": null,
            "object_fit": null,
            "object_position": null,
            "order": null,
            "overflow": null,
            "overflow_x": null,
            "overflow_y": null,
            "padding": null,
            "right": null,
            "top": null,
            "visibility": null,
            "width": null
          }
        },
        "ed3f8ac4eb9b4af7a5933bd256a20348": {
          "model_module": "@jupyter-widgets/base",
          "model_name": "LayoutModel",
          "model_module_version": "1.2.0",
          "state": {
            "_model_module": "@jupyter-widgets/base",
            "_model_module_version": "1.2.0",
            "_model_name": "LayoutModel",
            "_view_count": null,
            "_view_module": "@jupyter-widgets/base",
            "_view_module_version": "1.2.0",
            "_view_name": "LayoutView",
            "align_content": null,
            "align_items": null,
            "align_self": null,
            "border": null,
            "bottom": null,
            "display": null,
            "flex": null,
            "flex_flow": null,
            "grid_area": null,
            "grid_auto_columns": null,
            "grid_auto_flow": null,
            "grid_auto_rows": null,
            "grid_column": null,
            "grid_gap": null,
            "grid_row": null,
            "grid_template_areas": null,
            "grid_template_columns": null,
            "grid_template_rows": null,
            "height": null,
            "justify_content": null,
            "justify_items": null,
            "left": null,
            "margin": null,
            "max_height": null,
            "max_width": null,
            "min_height": null,
            "min_width": null,
            "object_fit": null,
            "object_position": null,
            "order": null,
            "overflow": null,
            "overflow_x": null,
            "overflow_y": null,
            "padding": null,
            "right": null,
            "top": null,
            "visibility": null,
            "width": null
          }
        },
        "9c6d4f772d0f4b7dac298a4f2a3d4f38": {
          "model_module": "@jupyter-widgets/controls",
          "model_name": "DescriptionStyleModel",
          "model_module_version": "1.5.0",
          "state": {
            "_model_module": "@jupyter-widgets/controls",
            "_model_module_version": "1.5.0",
            "_model_name": "DescriptionStyleModel",
            "_view_count": null,
            "_view_module": "@jupyter-widgets/base",
            "_view_module_version": "1.2.0",
            "_view_name": "StyleView",
            "description_width": ""
          }
        },
        "9f0e0e6615c64f23af79c9033c80aa1a": {
          "model_module": "@jupyter-widgets/base",
          "model_name": "LayoutModel",
          "model_module_version": "1.2.0",
          "state": {
            "_model_module": "@jupyter-widgets/base",
            "_model_module_version": "1.2.0",
            "_model_name": "LayoutModel",
            "_view_count": null,
            "_view_module": "@jupyter-widgets/base",
            "_view_module_version": "1.2.0",
            "_view_name": "LayoutView",
            "align_content": null,
            "align_items": null,
            "align_self": null,
            "border": null,
            "bottom": null,
            "display": null,
            "flex": null,
            "flex_flow": null,
            "grid_area": null,
            "grid_auto_columns": null,
            "grid_auto_flow": null,
            "grid_auto_rows": null,
            "grid_column": null,
            "grid_gap": null,
            "grid_row": null,
            "grid_template_areas": null,
            "grid_template_columns": null,
            "grid_template_rows": null,
            "height": null,
            "justify_content": null,
            "justify_items": null,
            "left": null,
            "margin": null,
            "max_height": null,
            "max_width": null,
            "min_height": null,
            "min_width": null,
            "object_fit": null,
            "object_position": null,
            "order": null,
            "overflow": null,
            "overflow_x": null,
            "overflow_y": null,
            "padding": null,
            "right": null,
            "top": null,
            "visibility": null,
            "width": null
          }
        },
        "01f2f22c0c49498ab8de183081692bb3": {
          "model_module": "@jupyter-widgets/controls",
          "model_name": "ProgressStyleModel",
          "model_module_version": "1.5.0",
          "state": {
            "_model_module": "@jupyter-widgets/controls",
            "_model_module_version": "1.5.0",
            "_model_name": "ProgressStyleModel",
            "_view_count": null,
            "_view_module": "@jupyter-widgets/base",
            "_view_module_version": "1.2.0",
            "_view_name": "StyleView",
            "bar_color": null,
            "description_width": ""
          }
        },
        "21970475830e459fad749eefe1cf6563": {
          "model_module": "@jupyter-widgets/base",
          "model_name": "LayoutModel",
          "model_module_version": "1.2.0",
          "state": {
            "_model_module": "@jupyter-widgets/base",
            "_model_module_version": "1.2.0",
            "_model_name": "LayoutModel",
            "_view_count": null,
            "_view_module": "@jupyter-widgets/base",
            "_view_module_version": "1.2.0",
            "_view_name": "LayoutView",
            "align_content": null,
            "align_items": null,
            "align_self": null,
            "border": null,
            "bottom": null,
            "display": null,
            "flex": null,
            "flex_flow": null,
            "grid_area": null,
            "grid_auto_columns": null,
            "grid_auto_flow": null,
            "grid_auto_rows": null,
            "grid_column": null,
            "grid_gap": null,
            "grid_row": null,
            "grid_template_areas": null,
            "grid_template_columns": null,
            "grid_template_rows": null,
            "height": null,
            "justify_content": null,
            "justify_items": null,
            "left": null,
            "margin": null,
            "max_height": null,
            "max_width": null,
            "min_height": null,
            "min_width": null,
            "object_fit": null,
            "object_position": null,
            "order": null,
            "overflow": null,
            "overflow_x": null,
            "overflow_y": null,
            "padding": null,
            "right": null,
            "top": null,
            "visibility": null,
            "width": null
          }
        },
        "c964eec96b93486aa42e8befc016705b": {
          "model_module": "@jupyter-widgets/controls",
          "model_name": "DescriptionStyleModel",
          "model_module_version": "1.5.0",
          "state": {
            "_model_module": "@jupyter-widgets/controls",
            "_model_module_version": "1.5.0",
            "_model_name": "DescriptionStyleModel",
            "_view_count": null,
            "_view_module": "@jupyter-widgets/base",
            "_view_module_version": "1.2.0",
            "_view_name": "StyleView",
            "description_width": ""
          }
        },
        "5712309cfa634a728ba89f264b3f1921": {
          "model_module": "@jupyter-widgets/controls",
          "model_name": "HBoxModel",
          "model_module_version": "1.5.0",
          "state": {
            "_dom_classes": [],
            "_model_module": "@jupyter-widgets/controls",
            "_model_module_version": "1.5.0",
            "_model_name": "HBoxModel",
            "_view_count": null,
            "_view_module": "@jupyter-widgets/controls",
            "_view_module_version": "1.5.0",
            "_view_name": "HBoxView",
            "box_style": "",
            "children": [
              "IPY_MODEL_fbc8c59aea304755810b3624a4b0de15",
              "IPY_MODEL_d53a53b7d236497cbfa22b6edfe8d93c",
              "IPY_MODEL_0ae1b2a904174c6181afb3ec1f871416"
            ],
            "layout": "IPY_MODEL_9bca396e42cf483e8e4b719b84e6914e"
          }
        },
        "fbc8c59aea304755810b3624a4b0de15": {
          "model_module": "@jupyter-widgets/controls",
          "model_name": "HTMLModel",
          "model_module_version": "1.5.0",
          "state": {
            "_dom_classes": [],
            "_model_module": "@jupyter-widgets/controls",
            "_model_module_version": "1.5.0",
            "_model_name": "HTMLModel",
            "_view_count": null,
            "_view_module": "@jupyter-widgets/controls",
            "_view_module_version": "1.5.0",
            "_view_name": "HTMLView",
            "description": "",
            "description_tooltip": null,
            "layout": "IPY_MODEL_15bcf2fafc234e36b8875e5219e3f659",
            "placeholder": "​",
            "style": "IPY_MODEL_23e5d09a7fc54d8097e90bb82ba51c6f",
            "value": "100%"
          }
        },
        "d53a53b7d236497cbfa22b6edfe8d93c": {
          "model_module": "@jupyter-widgets/controls",
          "model_name": "FloatProgressModel",
          "model_module_version": "1.5.0",
          "state": {
            "_dom_classes": [],
            "_model_module": "@jupyter-widgets/controls",
            "_model_module_version": "1.5.0",
            "_model_name": "FloatProgressModel",
            "_view_count": null,
            "_view_module": "@jupyter-widgets/controls",
            "_view_module_version": "1.5.0",
            "_view_name": "ProgressView",
            "bar_style": "success",
            "description": "",
            "description_tooltip": null,
            "layout": "IPY_MODEL_64b9d7168adb4f48ad94c71c5492a562",
            "max": 65,
            "min": 0,
            "orientation": "horizontal",
            "style": "IPY_MODEL_3c794de6249a45e28ae70cd0b9e7e1b1",
            "value": 65
          }
        },
        "0ae1b2a904174c6181afb3ec1f871416": {
          "model_module": "@jupyter-widgets/controls",
          "model_name": "HTMLModel",
          "model_module_version": "1.5.0",
          "state": {
            "_dom_classes": [],
            "_model_module": "@jupyter-widgets/controls",
            "_model_module_version": "1.5.0",
            "_model_name": "HTMLModel",
            "_view_count": null,
            "_view_module": "@jupyter-widgets/controls",
            "_view_module_version": "1.5.0",
            "_view_name": "HTMLView",
            "description": "",
            "description_tooltip": null,
            "layout": "IPY_MODEL_f09ca3ba12984c2eb6c323d6b93b4209",
            "placeholder": "​",
            "style": "IPY_MODEL_7ca9b9f15bdc433789126e10cd618d78",
            "value": " 65/65 [00:00&lt;00:00, 213.80it/s]"
          }
        },
        "9bca396e42cf483e8e4b719b84e6914e": {
          "model_module": "@jupyter-widgets/base",
          "model_name": "LayoutModel",
          "model_module_version": "1.2.0",
          "state": {
            "_model_module": "@jupyter-widgets/base",
            "_model_module_version": "1.2.0",
            "_model_name": "LayoutModel",
            "_view_count": null,
            "_view_module": "@jupyter-widgets/base",
            "_view_module_version": "1.2.0",
            "_view_name": "LayoutView",
            "align_content": null,
            "align_items": null,
            "align_self": null,
            "border": null,
            "bottom": null,
            "display": null,
            "flex": null,
            "flex_flow": null,
            "grid_area": null,
            "grid_auto_columns": null,
            "grid_auto_flow": null,
            "grid_auto_rows": null,
            "grid_column": null,
            "grid_gap": null,
            "grid_row": null,
            "grid_template_areas": null,
            "grid_template_columns": null,
            "grid_template_rows": null,
            "height": null,
            "justify_content": null,
            "justify_items": null,
            "left": null,
            "margin": null,
            "max_height": null,
            "max_width": null,
            "min_height": null,
            "min_width": null,
            "object_fit": null,
            "object_position": null,
            "order": null,
            "overflow": null,
            "overflow_x": null,
            "overflow_y": null,
            "padding": null,
            "right": null,
            "top": null,
            "visibility": null,
            "width": null
          }
        },
        "15bcf2fafc234e36b8875e5219e3f659": {
          "model_module": "@jupyter-widgets/base",
          "model_name": "LayoutModel",
          "model_module_version": "1.2.0",
          "state": {
            "_model_module": "@jupyter-widgets/base",
            "_model_module_version": "1.2.0",
            "_model_name": "LayoutModel",
            "_view_count": null,
            "_view_module": "@jupyter-widgets/base",
            "_view_module_version": "1.2.0",
            "_view_name": "LayoutView",
            "align_content": null,
            "align_items": null,
            "align_self": null,
            "border": null,
            "bottom": null,
            "display": null,
            "flex": null,
            "flex_flow": null,
            "grid_area": null,
            "grid_auto_columns": null,
            "grid_auto_flow": null,
            "grid_auto_rows": null,
            "grid_column": null,
            "grid_gap": null,
            "grid_row": null,
            "grid_template_areas": null,
            "grid_template_columns": null,
            "grid_template_rows": null,
            "height": null,
            "justify_content": null,
            "justify_items": null,
            "left": null,
            "margin": null,
            "max_height": null,
            "max_width": null,
            "min_height": null,
            "min_width": null,
            "object_fit": null,
            "object_position": null,
            "order": null,
            "overflow": null,
            "overflow_x": null,
            "overflow_y": null,
            "padding": null,
            "right": null,
            "top": null,
            "visibility": null,
            "width": null
          }
        },
        "23e5d09a7fc54d8097e90bb82ba51c6f": {
          "model_module": "@jupyter-widgets/controls",
          "model_name": "DescriptionStyleModel",
          "model_module_version": "1.5.0",
          "state": {
            "_model_module": "@jupyter-widgets/controls",
            "_model_module_version": "1.5.0",
            "_model_name": "DescriptionStyleModel",
            "_view_count": null,
            "_view_module": "@jupyter-widgets/base",
            "_view_module_version": "1.2.0",
            "_view_name": "StyleView",
            "description_width": ""
          }
        },
        "64b9d7168adb4f48ad94c71c5492a562": {
          "model_module": "@jupyter-widgets/base",
          "model_name": "LayoutModel",
          "model_module_version": "1.2.0",
          "state": {
            "_model_module": "@jupyter-widgets/base",
            "_model_module_version": "1.2.0",
            "_model_name": "LayoutModel",
            "_view_count": null,
            "_view_module": "@jupyter-widgets/base",
            "_view_module_version": "1.2.0",
            "_view_name": "LayoutView",
            "align_content": null,
            "align_items": null,
            "align_self": null,
            "border": null,
            "bottom": null,
            "display": null,
            "flex": null,
            "flex_flow": null,
            "grid_area": null,
            "grid_auto_columns": null,
            "grid_auto_flow": null,
            "grid_auto_rows": null,
            "grid_column": null,
            "grid_gap": null,
            "grid_row": null,
            "grid_template_areas": null,
            "grid_template_columns": null,
            "grid_template_rows": null,
            "height": null,
            "justify_content": null,
            "justify_items": null,
            "left": null,
            "margin": null,
            "max_height": null,
            "max_width": null,
            "min_height": null,
            "min_width": null,
            "object_fit": null,
            "object_position": null,
            "order": null,
            "overflow": null,
            "overflow_x": null,
            "overflow_y": null,
            "padding": null,
            "right": null,
            "top": null,
            "visibility": null,
            "width": null
          }
        },
        "3c794de6249a45e28ae70cd0b9e7e1b1": {
          "model_module": "@jupyter-widgets/controls",
          "model_name": "ProgressStyleModel",
          "model_module_version": "1.5.0",
          "state": {
            "_model_module": "@jupyter-widgets/controls",
            "_model_module_version": "1.5.0",
            "_model_name": "ProgressStyleModel",
            "_view_count": null,
            "_view_module": "@jupyter-widgets/base",
            "_view_module_version": "1.2.0",
            "_view_name": "StyleView",
            "bar_color": null,
            "description_width": ""
          }
        },
        "f09ca3ba12984c2eb6c323d6b93b4209": {
          "model_module": "@jupyter-widgets/base",
          "model_name": "LayoutModel",
          "model_module_version": "1.2.0",
          "state": {
            "_model_module": "@jupyter-widgets/base",
            "_model_module_version": "1.2.0",
            "_model_name": "LayoutModel",
            "_view_count": null,
            "_view_module": "@jupyter-widgets/base",
            "_view_module_version": "1.2.0",
            "_view_name": "LayoutView",
            "align_content": null,
            "align_items": null,
            "align_self": null,
            "border": null,
            "bottom": null,
            "display": null,
            "flex": null,
            "flex_flow": null,
            "grid_area": null,
            "grid_auto_columns": null,
            "grid_auto_flow": null,
            "grid_auto_rows": null,
            "grid_column": null,
            "grid_gap": null,
            "grid_row": null,
            "grid_template_areas": null,
            "grid_template_columns": null,
            "grid_template_rows": null,
            "height": null,
            "justify_content": null,
            "justify_items": null,
            "left": null,
            "margin": null,
            "max_height": null,
            "max_width": null,
            "min_height": null,
            "min_width": null,
            "object_fit": null,
            "object_position": null,
            "order": null,
            "overflow": null,
            "overflow_x": null,
            "overflow_y": null,
            "padding": null,
            "right": null,
            "top": null,
            "visibility": null,
            "width": null
          }
        },
        "7ca9b9f15bdc433789126e10cd618d78": {
          "model_module": "@jupyter-widgets/controls",
          "model_name": "DescriptionStyleModel",
          "model_module_version": "1.5.0",
          "state": {
            "_model_module": "@jupyter-widgets/controls",
            "_model_module_version": "1.5.0",
            "_model_name": "DescriptionStyleModel",
            "_view_count": null,
            "_view_module": "@jupyter-widgets/base",
            "_view_module_version": "1.2.0",
            "_view_name": "StyleView",
            "description_width": ""
          }
        },
        "f33c5771a7224fdb8359d1c0165abba8": {
          "model_module": "@jupyter-widgets/controls",
          "model_name": "HBoxModel",
          "model_module_version": "1.5.0",
          "state": {
            "_dom_classes": [],
            "_model_module": "@jupyter-widgets/controls",
            "_model_module_version": "1.5.0",
            "_model_name": "HBoxModel",
            "_view_count": null,
            "_view_module": "@jupyter-widgets/controls",
            "_view_module_version": "1.5.0",
            "_view_name": "HBoxView",
            "box_style": "",
            "children": [
              "IPY_MODEL_dcb2f5d103094d368dfef40c6c0baeb6",
              "IPY_MODEL_c5d73fa28740496991b84069e7fc99b3",
              "IPY_MODEL_e329e13d4e2b4dcb9362531f3b5051d0"
            ],
            "layout": "IPY_MODEL_b5f002cf36bd46aeb407ad88eb7e2cc2"
          }
        },
        "dcb2f5d103094d368dfef40c6c0baeb6": {
          "model_module": "@jupyter-widgets/controls",
          "model_name": "HTMLModel",
          "model_module_version": "1.5.0",
          "state": {
            "_dom_classes": [],
            "_model_module": "@jupyter-widgets/controls",
            "_model_module_version": "1.5.0",
            "_model_name": "HTMLModel",
            "_view_count": null,
            "_view_module": "@jupyter-widgets/controls",
            "_view_module_version": "1.5.0",
            "_view_name": "HTMLView",
            "description": "",
            "description_tooltip": null,
            "layout": "IPY_MODEL_e840eef6e96c4e0494949065858cd94a",
            "placeholder": "​",
            "style": "IPY_MODEL_6ebe166018bc41acbd284d6fc53bc9ed",
            "value": "100%"
          }
        },
        "c5d73fa28740496991b84069e7fc99b3": {
          "model_module": "@jupyter-widgets/controls",
          "model_name": "FloatProgressModel",
          "model_module_version": "1.5.0",
          "state": {
            "_dom_classes": [],
            "_model_module": "@jupyter-widgets/controls",
            "_model_module_version": "1.5.0",
            "_model_name": "FloatProgressModel",
            "_view_count": null,
            "_view_module": "@jupyter-widgets/controls",
            "_view_module_version": "1.5.0",
            "_view_name": "ProgressView",
            "bar_style": "success",
            "description": "",
            "description_tooltip": null,
            "layout": "IPY_MODEL_3ee9b716b6a44da39756c00fc9bbabca",
            "max": 65,
            "min": 0,
            "orientation": "horizontal",
            "style": "IPY_MODEL_80f795fe830148189fbd9aaffe7cf434",
            "value": 65
          }
        },
        "e329e13d4e2b4dcb9362531f3b5051d0": {
          "model_module": "@jupyter-widgets/controls",
          "model_name": "HTMLModel",
          "model_module_version": "1.5.0",
          "state": {
            "_dom_classes": [],
            "_model_module": "@jupyter-widgets/controls",
            "_model_module_version": "1.5.0",
            "_model_name": "HTMLModel",
            "_view_count": null,
            "_view_module": "@jupyter-widgets/controls",
            "_view_module_version": "1.5.0",
            "_view_name": "HTMLView",
            "description": "",
            "description_tooltip": null,
            "layout": "IPY_MODEL_2f82d259d80440ac8fc9407785cf67f8",
            "placeholder": "​",
            "style": "IPY_MODEL_df176e9eef0247a087ea4d20eb3e5bc6",
            "value": " 65/65 [00:09&lt;00:00,  7.09it/s]"
          }
        },
        "b5f002cf36bd46aeb407ad88eb7e2cc2": {
          "model_module": "@jupyter-widgets/base",
          "model_name": "LayoutModel",
          "model_module_version": "1.2.0",
          "state": {
            "_model_module": "@jupyter-widgets/base",
            "_model_module_version": "1.2.0",
            "_model_name": "LayoutModel",
            "_view_count": null,
            "_view_module": "@jupyter-widgets/base",
            "_view_module_version": "1.2.0",
            "_view_name": "LayoutView",
            "align_content": null,
            "align_items": null,
            "align_self": null,
            "border": null,
            "bottom": null,
            "display": null,
            "flex": null,
            "flex_flow": null,
            "grid_area": null,
            "grid_auto_columns": null,
            "grid_auto_flow": null,
            "grid_auto_rows": null,
            "grid_column": null,
            "grid_gap": null,
            "grid_row": null,
            "grid_template_areas": null,
            "grid_template_columns": null,
            "grid_template_rows": null,
            "height": null,
            "justify_content": null,
            "justify_items": null,
            "left": null,
            "margin": null,
            "max_height": null,
            "max_width": null,
            "min_height": null,
            "min_width": null,
            "object_fit": null,
            "object_position": null,
            "order": null,
            "overflow": null,
            "overflow_x": null,
            "overflow_y": null,
            "padding": null,
            "right": null,
            "top": null,
            "visibility": null,
            "width": null
          }
        },
        "e840eef6e96c4e0494949065858cd94a": {
          "model_module": "@jupyter-widgets/base",
          "model_name": "LayoutModel",
          "model_module_version": "1.2.0",
          "state": {
            "_model_module": "@jupyter-widgets/base",
            "_model_module_version": "1.2.0",
            "_model_name": "LayoutModel",
            "_view_count": null,
            "_view_module": "@jupyter-widgets/base",
            "_view_module_version": "1.2.0",
            "_view_name": "LayoutView",
            "align_content": null,
            "align_items": null,
            "align_self": null,
            "border": null,
            "bottom": null,
            "display": null,
            "flex": null,
            "flex_flow": null,
            "grid_area": null,
            "grid_auto_columns": null,
            "grid_auto_flow": null,
            "grid_auto_rows": null,
            "grid_column": null,
            "grid_gap": null,
            "grid_row": null,
            "grid_template_areas": null,
            "grid_template_columns": null,
            "grid_template_rows": null,
            "height": null,
            "justify_content": null,
            "justify_items": null,
            "left": null,
            "margin": null,
            "max_height": null,
            "max_width": null,
            "min_height": null,
            "min_width": null,
            "object_fit": null,
            "object_position": null,
            "order": null,
            "overflow": null,
            "overflow_x": null,
            "overflow_y": null,
            "padding": null,
            "right": null,
            "top": null,
            "visibility": null,
            "width": null
          }
        },
        "6ebe166018bc41acbd284d6fc53bc9ed": {
          "model_module": "@jupyter-widgets/controls",
          "model_name": "DescriptionStyleModel",
          "model_module_version": "1.5.0",
          "state": {
            "_model_module": "@jupyter-widgets/controls",
            "_model_module_version": "1.5.0",
            "_model_name": "DescriptionStyleModel",
            "_view_count": null,
            "_view_module": "@jupyter-widgets/base",
            "_view_module_version": "1.2.0",
            "_view_name": "StyleView",
            "description_width": ""
          }
        },
        "3ee9b716b6a44da39756c00fc9bbabca": {
          "model_module": "@jupyter-widgets/base",
          "model_name": "LayoutModel",
          "model_module_version": "1.2.0",
          "state": {
            "_model_module": "@jupyter-widgets/base",
            "_model_module_version": "1.2.0",
            "_model_name": "LayoutModel",
            "_view_count": null,
            "_view_module": "@jupyter-widgets/base",
            "_view_module_version": "1.2.0",
            "_view_name": "LayoutView",
            "align_content": null,
            "align_items": null,
            "align_self": null,
            "border": null,
            "bottom": null,
            "display": null,
            "flex": null,
            "flex_flow": null,
            "grid_area": null,
            "grid_auto_columns": null,
            "grid_auto_flow": null,
            "grid_auto_rows": null,
            "grid_column": null,
            "grid_gap": null,
            "grid_row": null,
            "grid_template_areas": null,
            "grid_template_columns": null,
            "grid_template_rows": null,
            "height": null,
            "justify_content": null,
            "justify_items": null,
            "left": null,
            "margin": null,
            "max_height": null,
            "max_width": null,
            "min_height": null,
            "min_width": null,
            "object_fit": null,
            "object_position": null,
            "order": null,
            "overflow": null,
            "overflow_x": null,
            "overflow_y": null,
            "padding": null,
            "right": null,
            "top": null,
            "visibility": null,
            "width": null
          }
        },
        "80f795fe830148189fbd9aaffe7cf434": {
          "model_module": "@jupyter-widgets/controls",
          "model_name": "ProgressStyleModel",
          "model_module_version": "1.5.0",
          "state": {
            "_model_module": "@jupyter-widgets/controls",
            "_model_module_version": "1.5.0",
            "_model_name": "ProgressStyleModel",
            "_view_count": null,
            "_view_module": "@jupyter-widgets/base",
            "_view_module_version": "1.2.0",
            "_view_name": "StyleView",
            "bar_color": null,
            "description_width": ""
          }
        },
        "2f82d259d80440ac8fc9407785cf67f8": {
          "model_module": "@jupyter-widgets/base",
          "model_name": "LayoutModel",
          "model_module_version": "1.2.0",
          "state": {
            "_model_module": "@jupyter-widgets/base",
            "_model_module_version": "1.2.0",
            "_model_name": "LayoutModel",
            "_view_count": null,
            "_view_module": "@jupyter-widgets/base",
            "_view_module_version": "1.2.0",
            "_view_name": "LayoutView",
            "align_content": null,
            "align_items": null,
            "align_self": null,
            "border": null,
            "bottom": null,
            "display": null,
            "flex": null,
            "flex_flow": null,
            "grid_area": null,
            "grid_auto_columns": null,
            "grid_auto_flow": null,
            "grid_auto_rows": null,
            "grid_column": null,
            "grid_gap": null,
            "grid_row": null,
            "grid_template_areas": null,
            "grid_template_columns": null,
            "grid_template_rows": null,
            "height": null,
            "justify_content": null,
            "justify_items": null,
            "left": null,
            "margin": null,
            "max_height": null,
            "max_width": null,
            "min_height": null,
            "min_width": null,
            "object_fit": null,
            "object_position": null,
            "order": null,
            "overflow": null,
            "overflow_x": null,
            "overflow_y": null,
            "padding": null,
            "right": null,
            "top": null,
            "visibility": null,
            "width": null
          }
        },
        "df176e9eef0247a087ea4d20eb3e5bc6": {
          "model_module": "@jupyter-widgets/controls",
          "model_name": "DescriptionStyleModel",
          "model_module_version": "1.5.0",
          "state": {
            "_model_module": "@jupyter-widgets/controls",
            "_model_module_version": "1.5.0",
            "_model_name": "DescriptionStyleModel",
            "_view_count": null,
            "_view_module": "@jupyter-widgets/base",
            "_view_module_version": "1.2.0",
            "_view_name": "StyleView",
            "description_width": ""
          }
        }
      }
    }
  },
  "cells": [
    {
      "cell_type": "code",
      "source": [
        "from google.colab import drive\n",
        "import pandas as pd\n",
        "import json\n",
        "\n",
        "# Mount Google Drive\n",
        "drive.mount('/content/drive')\n",
        "\n",
        "# Read json file\n",
        "file_path = 'drive/MyDrive/questions_data/documents-with-ids.json'\n",
        "\n",
        "with open(file_path, 'r') as f:\n",
        "    documents = json.load(f)\n",
        "\n",
        "print(f\"Successfully read data: {file_path}\")\n",
        "print(f\"Total entries read: {len(documents)}\")"
      ],
      "metadata": {
        "colab": {
          "base_uri": "https://localhost:8080/"
        },
        "id": "zm7o8ITXDzw8",
        "outputId": "40fa978f-fc24-488e-8dc6-ec9f6a05fd5e"
      },
      "execution_count": null,
      "outputs": [
        {
          "output_type": "stream",
          "name": "stdout",
          "text": [
            "Drive already mounted at /content/drive; to attempt to forcibly remount, call drive.mount(\"/content/drive\", force_remount=True).\n",
            "Successfully read data: drive/MyDrive/questions_data/documents-with-ids.json\n",
            "Total entries read: 948\n"
          ]
        }
      ]
    },
    {
      "cell_type": "code",
      "source": [
        "!pip install elasticsearch"
      ],
      "metadata": {
        "colab": {
          "base_uri": "https://localhost:8080/"
        },
        "id": "kEU3QZAwIu3j",
        "outputId": "b0945bf7-080b-40d1-d199-2c8a5300ecf4"
      },
      "execution_count": null,
      "outputs": [
        {
          "output_type": "stream",
          "name": "stdout",
          "text": [
            "Collecting elasticsearch\n",
            "  Downloading elasticsearch-8.16.0-py3-none-any.whl.metadata (8.8 kB)\n",
            "Collecting elastic-transport<9,>=8.15.1 (from elasticsearch)\n",
            "  Downloading elastic_transport-8.15.1-py3-none-any.whl.metadata (3.7 kB)\n",
            "Requirement already satisfied: urllib3<3,>=1.26.2 in /usr/local/lib/python3.10/dist-packages (from elastic-transport<9,>=8.15.1->elasticsearch) (2.2.3)\n",
            "Requirement already satisfied: certifi in /usr/local/lib/python3.10/dist-packages (from elastic-transport<9,>=8.15.1->elasticsearch) (2024.8.30)\n",
            "Downloading elasticsearch-8.16.0-py3-none-any.whl (543 kB)\n",
            "\u001b[?25l   \u001b[90m━━━━━━━━━━━━━━━━━━━━━━━━━━━━━━━━━━━━━━━━\u001b[0m \u001b[32m0.0/543.1 kB\u001b[0m \u001b[31m?\u001b[0m eta \u001b[36m-:--:--\u001b[0m\r\u001b[2K   \u001b[91m━━━━━━━━━━━━━━━━━━━━━━━━━━━━━━━━━━━━━━━\u001b[0m\u001b[91m╸\u001b[0m \u001b[32m542.7/543.1 kB\u001b[0m \u001b[31m17.5 MB/s\u001b[0m eta \u001b[36m0:00:01\u001b[0m\r\u001b[2K   \u001b[90m━━━━━━━━━━━━━━━━━━━━━━━━━━━━━━━━━━━━━━━━\u001b[0m \u001b[32m543.1/543.1 kB\u001b[0m \u001b[31m12.7 MB/s\u001b[0m eta \u001b[36m0:00:00\u001b[0m\n",
            "\u001b[?25hDownloading elastic_transport-8.15.1-py3-none-any.whl (64 kB)\n",
            "\u001b[?25l   \u001b[90m━━━━━━━━━━━━━━━━━━━━━━━━━━━━━━━━━━━━━━━━\u001b[0m \u001b[32m0.0/64.4 kB\u001b[0m \u001b[31m?\u001b[0m eta \u001b[36m-:--:--\u001b[0m\r\u001b[2K   \u001b[90m━━━━━━━━━━━━━━━━━━━━━━━━━━━━━━━━━━━━━━━━\u001b[0m \u001b[32m64.4/64.4 kB\u001b[0m \u001b[31m6.4 MB/s\u001b[0m eta \u001b[36m0:00:00\u001b[0m\n",
            "\u001b[?25hInstalling collected packages: elastic-transport, elasticsearch\n",
            "Successfully installed elastic-transport-8.15.1 elasticsearch-8.16.0\n"
          ]
        }
      ]
    },
    {
      "cell_type": "code",
      "source": [
        "import logging\n",
        "import os\n",
        "from elasticsearch import Elasticsearch\n",
        "from google.colab import userdata\n",
        "from getpass import getpass\n",
        "\n",
        "# Elastic Cloud ID and API Key in Colab environment\n",
        "ELASTIC_CLOUD_ID = userdata.get('ELASTIC_CLOUD_ID')\n",
        "ELASTIC_API_KEY = userdata.get('ELASTIC_API_KEY')\n",
        "\n",
        "# Create the client\n",
        "es_client = Elasticsearch(\n",
        "    cloud_id=ELASTIC_CLOUD_ID,\n",
        "    api_key=ELASTIC_API_KEY,\n",
        "    timeout=60  # increase timeout\n",
        ")\n",
        "\n",
        "# Check connection\n",
        "if es_client.ping():\n",
        "    print('Successfully connected to Elasticsearch')\n",
        "    print(es_client.info())\n",
        "else:\n",
        "    print('Could not connect to Elasticsearch')"
      ],
      "metadata": {
        "colab": {
          "base_uri": "https://localhost:8080/"
        },
        "id": "E8HcYNgkI_IU",
        "outputId": "2f804307-b002-4985-cad6-8a004180831f"
      },
      "execution_count": null,
      "outputs": [
        {
          "output_type": "stream",
          "name": "stderr",
          "text": [
            "<ipython-input-5-433184addf52>:12: DeprecationWarning: The 'timeout' parameter is deprecated in favor of 'request_timeout'\n",
            "  es_client = Elasticsearch(\n"
          ]
        },
        {
          "output_type": "stream",
          "name": "stdout",
          "text": [
            "Successfully connected to Elasticsearch\n",
            "{'name': 'instance-0000000000', 'cluster_name': 'bd5c04e72b0c4673b4cbd3db98fdb86b', 'cluster_uuid': 'K11-nm1NQeu_GpxDE5TTJg', 'version': {'number': '8.14.3', 'build_flavor': 'default', 'build_type': 'docker', 'build_hash': 'd55f984299e0e88dee72ebd8255f7ff130859ad0', 'build_date': '2024-07-07T22:04:49.882652950Z', 'build_snapshot': False, 'lucene_version': '9.10.0', 'minimum_wire_compatibility_version': '7.17.0', 'minimum_index_compatibility_version': '7.0.0'}, 'tagline': 'You Know, for Search'}\n"
          ]
        }
      ]
    },
    {
      "cell_type": "code",
      "source": [
        "index_settings = {\n",
        "    \"settings\": {\n",
        "        \"number_of_shards\": 1,\n",
        "        \"number_of_replicas\": 0\n",
        "    },\n",
        "    \"mappings\": {\n",
        "        \"properties\": {\n",
        "            \"text\": {\"type\": \"text\"},\n",
        "            \"section\": {\"type\": \"text\"},\n",
        "            \"question\": {\"type\": \"text\"},\n",
        "            \"course\": {\"type\": \"keyword\"},\n",
        "            \"id\": {\"type\": \"keyword\"},\n",
        "        }\n",
        "    }\n",
        "}\n",
        "\n",
        "index_name = \"course-questions\"\n",
        "\n",
        "es_client.indices.delete(index=index_name, ignore_unavailable=True)\n",
        "es_client.indices.create(index=index_name, body=index_settings)"
      ],
      "metadata": {
        "colab": {
          "base_uri": "https://localhost:8080/"
        },
        "id": "7tspMjP_GKAD",
        "outputId": "5c172c05-0e37-4c6f-c299-f65e41d353ac"
      },
      "execution_count": null,
      "outputs": [
        {
          "output_type": "execute_result",
          "data": {
            "text/plain": [
              "ObjectApiResponse({'acknowledged': True, 'shards_acknowledged': True, 'index': 'course-questions'})"
            ]
          },
          "metadata": {},
          "execution_count": 6
        }
      ]
    },
    {
      "cell_type": "code",
      "source": [
        "from tqdm.auto import tqdm\n",
        "\n",
        "for doc in tqdm(documents):\n",
        "    es_client.index(index=index_name, document=doc)"
      ],
      "metadata": {
        "colab": {
          "base_uri": "https://localhost:8080/",
          "height": 49,
          "referenced_widgets": [
            "85753ad882094059997016e63dd99b6d",
            "c888cf7c4d364420afb02e27809f2113",
            "5d1b8a58de7c42f2b07b0461de8e84e4",
            "148a34f3e6194797809659fc1ed5fa67",
            "0b2954fbb15243ff9a5b2cec6efe8cd3",
            "0e52586b48b243e0820d1aeb6d50213e",
            "d9c0d3fe01b04c0ba12af3719578394f",
            "459d3f5905c049098c3be8545775c970",
            "f82f8cac5f62416288390f8cb505ab50",
            "de037850d3ef4011a4dbb7ba6c6cc52d",
            "dfa69c9fe6f64547ae59b82fb915a086"
          ]
        },
        "id": "Fm3fnOanIwHS",
        "outputId": "e5409dec-a540-44bb-aa05-4e8b9c98e9ce"
      },
      "execution_count": null,
      "outputs": [
        {
          "output_type": "display_data",
          "data": {
            "text/plain": [
              "  0%|          | 0/948 [00:00<?, ?it/s]"
            ],
            "application/vnd.jupyter.widget-view+json": {
              "version_major": 2,
              "version_minor": 0,
              "model_id": "85753ad882094059997016e63dd99b6d"
            }
          },
          "metadata": {}
        }
      ]
    },
    {
      "cell_type": "code",
      "source": [
        "def elastic_search(query, course):\n",
        "    search_query = {\n",
        "        \"size\": 5,\n",
        "        \"query\": {\n",
        "            \"bool\": {\n",
        "                \"must\": {\n",
        "                    \"multi_match\": {\n",
        "                        \"query\": query,\n",
        "                        \"fields\": [\"question^3\", \"text\", \"section\"],\n",
        "                        \"type\": \"best_fields\"\n",
        "                    }\n",
        "                },\n",
        "                \"filter\": {\n",
        "                    \"term\": {\n",
        "                        \"course\": course\n",
        "                    }\n",
        "                }\n",
        "            }\n",
        "        }\n",
        "    }\n",
        "\n",
        "    response = es_client.search(index=index_name, body=search_query)\n",
        "\n",
        "    result_docs = []\n",
        "\n",
        "    for hit in response['hits']['hits']:\n",
        "        result_docs.append(hit['_source'])\n",
        "\n",
        "    return result_docs"
      ],
      "metadata": {
        "id": "V2SSxO49Mm5r"
      },
      "execution_count": null,
      "outputs": []
    },
    {
      "cell_type": "code",
      "source": [
        "elastic_search(\n",
        "    query=\"I just discovered the course. Can I still join?\",\n",
        "    course=\"data-engineering-zoomcamp\"\n",
        ")"
      ],
      "metadata": {
        "colab": {
          "base_uri": "https://localhost:8080/"
        },
        "id": "ZANEEwRaMpPr",
        "outputId": "27b29b3e-5f09-4e0b-96be-58ca474eed42"
      },
      "execution_count": null,
      "outputs": [
        {
          "output_type": "execute_result",
          "data": {
            "text/plain": [
              "[{'text': \"Yes, even if you don't register, you're still eligible to submit the homeworks.\\nBe aware, however, that there will be deadlines for turning in the final projects. So don't leave everything for the last minute.\",\n",
              "  'section': 'General course-related questions',\n",
              "  'question': 'Course - Can I still join the course after the start date?',\n",
              "  'course': 'data-engineering-zoomcamp',\n",
              "  'id': '7842b56a'},\n",
              " {'text': 'Yes, we will keep all the materials after the course finishes, so you can follow the course at your own pace after it finishes.\\nYou can also continue looking at the homeworks and continue preparing for the next cohort. I guess you can also start working on your final capstone project.',\n",
              "  'section': 'General course-related questions',\n",
              "  'question': 'Course - Can I follow the course after it finishes?',\n",
              "  'course': 'data-engineering-zoomcamp',\n",
              "  'id': 'a482086d'},\n",
              " {'text': 'You can start by installing and setting up all the dependencies and requirements:\\nGoogle cloud account\\nGoogle Cloud SDK\\nPython 3 (installed with Anaconda)\\nTerraform\\nGit\\nLook over the prerequisites and syllabus to see if you are comfortable with these subjects.',\n",
              "  'section': 'General course-related questions',\n",
              "  'question': 'Course - What can I do before the course starts?',\n",
              "  'course': 'data-engineering-zoomcamp',\n",
              "  'id': '63394d91'},\n",
              " {'text': 'Yes, the slack channel remains open and you can ask questions there. But always sDocker containers exit code w search the channel first and second, check the FAQ (this document), most likely all your questions are already answered here.\\nYou can also tag the bot @ZoomcampQABot to help you conduct the search, but don’t rely on its answers 100%, it is pretty good though.',\n",
              "  'section': 'General course-related questions',\n",
              "  'question': 'Course - Can I get support if I take the course in the self-paced mode?',\n",
              "  'course': 'data-engineering-zoomcamp',\n",
              "  'id': 'eb56ae98'},\n",
              " {'text': \"You don't need it. You're accepted. You can also just start learning and submitting homework without registering. It is not checked against any registered list. Registration is just to gauge interest before the start date.\",\n",
              "  'section': 'General course-related questions',\n",
              "  'question': 'Course - I have registered for the Data Engineering Bootcamp. When can I expect to receive the confirmation email?',\n",
              "  'course': 'data-engineering-zoomcamp',\n",
              "  'id': '0bbf41ec'}]"
            ]
          },
          "metadata": {},
          "execution_count": 9
        }
      ]
    },
    {
      "cell_type": "code",
      "source": [
        "from google.colab import drive\n",
        "import pandas as pd\n",
        "\n",
        "# Mount Google Drive\n",
        "drive.mount('/content/drive')\n",
        "\n",
        "# Read CSV file\n",
        "file_path = 'drive/MyDrive/questions_data/ground-truth-data.csv'\n",
        "df_ground_truth = pd.read_csv(file_path)\n",
        "\n",
        "df_ground_truth"
      ],
      "metadata": {
        "colab": {
          "base_uri": "https://localhost:8080/",
          "height": 441
        },
        "id": "QT8YIo6nMuU1",
        "outputId": "669abc65-9df0-4b65-add2-4eabbf216b95"
      },
      "execution_count": null,
      "outputs": [
        {
          "output_type": "stream",
          "name": "stdout",
          "text": [
            "Drive already mounted at /content/drive; to attempt to forcibly remount, call drive.mount(\"/content/drive\", force_remount=True).\n"
          ]
        },
        {
          "output_type": "execute_result",
          "data": {
            "text/plain": [
              "                                             question  \\\n",
              "0   When is the commencement date and time of the ...   \n",
              "1   How can I subscribe to the course's public Goo...   \n",
              "2   Is there a link to register for the course bef...   \n",
              "3   Where can I join the Telegram channel for cour...   \n",
              "4   Which Slack channel should I join for the cour...   \n",
              "..                                                ...   \n",
              "60  Where can students watch the live stream of th...   \n",
              "61  How should students submit questions during th...   \n",
              "62  Where is the YouTube URL for the Office Hour s...   \n",
              "63  Why is it not recommended to post questions in...   \n",
              "64  Who is given access to the Zoom link for the O...   \n",
              "\n",
              "                       course  document  \n",
              "0   data-engineering-zoomcamp  c02e79ef  \n",
              "1   data-engineering-zoomcamp  c02e79ef  \n",
              "2   data-engineering-zoomcamp  c02e79ef  \n",
              "3   data-engineering-zoomcamp  c02e79ef  \n",
              "4   data-engineering-zoomcamp  c02e79ef  \n",
              "..                        ...       ...  \n",
              "60  data-engineering-zoomcamp  04aa4897  \n",
              "61  data-engineering-zoomcamp  04aa4897  \n",
              "62  data-engineering-zoomcamp  04aa4897  \n",
              "63  data-engineering-zoomcamp  04aa4897  \n",
              "64  data-engineering-zoomcamp  04aa4897  \n",
              "\n",
              "[65 rows x 3 columns]"
            ],
            "text/html": [
              "\n",
              "  <div id=\"df-d5730f45-fa52-4a9a-97e5-d084116c8f86\" class=\"colab-df-container\">\n",
              "    <div>\n",
              "<style scoped>\n",
              "    .dataframe tbody tr th:only-of-type {\n",
              "        vertical-align: middle;\n",
              "    }\n",
              "\n",
              "    .dataframe tbody tr th {\n",
              "        vertical-align: top;\n",
              "    }\n",
              "\n",
              "    .dataframe thead th {\n",
              "        text-align: right;\n",
              "    }\n",
              "</style>\n",
              "<table border=\"1\" class=\"dataframe\">\n",
              "  <thead>\n",
              "    <tr style=\"text-align: right;\">\n",
              "      <th></th>\n",
              "      <th>question</th>\n",
              "      <th>course</th>\n",
              "      <th>document</th>\n",
              "    </tr>\n",
              "  </thead>\n",
              "  <tbody>\n",
              "    <tr>\n",
              "      <th>0</th>\n",
              "      <td>When is the commencement date and time of the ...</td>\n",
              "      <td>data-engineering-zoomcamp</td>\n",
              "      <td>c02e79ef</td>\n",
              "    </tr>\n",
              "    <tr>\n",
              "      <th>1</th>\n",
              "      <td>How can I subscribe to the course's public Goo...</td>\n",
              "      <td>data-engineering-zoomcamp</td>\n",
              "      <td>c02e79ef</td>\n",
              "    </tr>\n",
              "    <tr>\n",
              "      <th>2</th>\n",
              "      <td>Is there a link to register for the course bef...</td>\n",
              "      <td>data-engineering-zoomcamp</td>\n",
              "      <td>c02e79ef</td>\n",
              "    </tr>\n",
              "    <tr>\n",
              "      <th>3</th>\n",
              "      <td>Where can I join the Telegram channel for cour...</td>\n",
              "      <td>data-engineering-zoomcamp</td>\n",
              "      <td>c02e79ef</td>\n",
              "    </tr>\n",
              "    <tr>\n",
              "      <th>4</th>\n",
              "      <td>Which Slack channel should I join for the cour...</td>\n",
              "      <td>data-engineering-zoomcamp</td>\n",
              "      <td>c02e79ef</td>\n",
              "    </tr>\n",
              "    <tr>\n",
              "      <th>...</th>\n",
              "      <td>...</td>\n",
              "      <td>...</td>\n",
              "      <td>...</td>\n",
              "    </tr>\n",
              "    <tr>\n",
              "      <th>60</th>\n",
              "      <td>Where can students watch the live stream of th...</td>\n",
              "      <td>data-engineering-zoomcamp</td>\n",
              "      <td>04aa4897</td>\n",
              "    </tr>\n",
              "    <tr>\n",
              "      <th>61</th>\n",
              "      <td>How should students submit questions during th...</td>\n",
              "      <td>data-engineering-zoomcamp</td>\n",
              "      <td>04aa4897</td>\n",
              "    </tr>\n",
              "    <tr>\n",
              "      <th>62</th>\n",
              "      <td>Where is the YouTube URL for the Office Hour s...</td>\n",
              "      <td>data-engineering-zoomcamp</td>\n",
              "      <td>04aa4897</td>\n",
              "    </tr>\n",
              "    <tr>\n",
              "      <th>63</th>\n",
              "      <td>Why is it not recommended to post questions in...</td>\n",
              "      <td>data-engineering-zoomcamp</td>\n",
              "      <td>04aa4897</td>\n",
              "    </tr>\n",
              "    <tr>\n",
              "      <th>64</th>\n",
              "      <td>Who is given access to the Zoom link for the O...</td>\n",
              "      <td>data-engineering-zoomcamp</td>\n",
              "      <td>04aa4897</td>\n",
              "    </tr>\n",
              "  </tbody>\n",
              "</table>\n",
              "<p>65 rows × 3 columns</p>\n",
              "</div>\n",
              "    <div class=\"colab-df-buttons\">\n",
              "\n",
              "  <div class=\"colab-df-container\">\n",
              "    <button class=\"colab-df-convert\" onclick=\"convertToInteractive('df-d5730f45-fa52-4a9a-97e5-d084116c8f86')\"\n",
              "            title=\"Convert this dataframe to an interactive table.\"\n",
              "            style=\"display:none;\">\n",
              "\n",
              "  <svg xmlns=\"http://www.w3.org/2000/svg\" height=\"24px\" viewBox=\"0 -960 960 960\">\n",
              "    <path d=\"M120-120v-720h720v720H120Zm60-500h600v-160H180v160Zm220 220h160v-160H400v160Zm0 220h160v-160H400v160ZM180-400h160v-160H180v160Zm440 0h160v-160H620v160ZM180-180h160v-160H180v160Zm440 0h160v-160H620v160Z\"/>\n",
              "  </svg>\n",
              "    </button>\n",
              "\n",
              "  <style>\n",
              "    .colab-df-container {\n",
              "      display:flex;\n",
              "      gap: 12px;\n",
              "    }\n",
              "\n",
              "    .colab-df-convert {\n",
              "      background-color: #E8F0FE;\n",
              "      border: none;\n",
              "      border-radius: 50%;\n",
              "      cursor: pointer;\n",
              "      display: none;\n",
              "      fill: #1967D2;\n",
              "      height: 32px;\n",
              "      padding: 0 0 0 0;\n",
              "      width: 32px;\n",
              "    }\n",
              "\n",
              "    .colab-df-convert:hover {\n",
              "      background-color: #E2EBFA;\n",
              "      box-shadow: 0px 1px 2px rgba(60, 64, 67, 0.3), 0px 1px 3px 1px rgba(60, 64, 67, 0.15);\n",
              "      fill: #174EA6;\n",
              "    }\n",
              "\n",
              "    .colab-df-buttons div {\n",
              "      margin-bottom: 4px;\n",
              "    }\n",
              "\n",
              "    [theme=dark] .colab-df-convert {\n",
              "      background-color: #3B4455;\n",
              "      fill: #D2E3FC;\n",
              "    }\n",
              "\n",
              "    [theme=dark] .colab-df-convert:hover {\n",
              "      background-color: #434B5C;\n",
              "      box-shadow: 0px 1px 3px 1px rgba(0, 0, 0, 0.15);\n",
              "      filter: drop-shadow(0px 1px 2px rgba(0, 0, 0, 0.3));\n",
              "      fill: #FFFFFF;\n",
              "    }\n",
              "  </style>\n",
              "\n",
              "    <script>\n",
              "      const buttonEl =\n",
              "        document.querySelector('#df-d5730f45-fa52-4a9a-97e5-d084116c8f86 button.colab-df-convert');\n",
              "      buttonEl.style.display =\n",
              "        google.colab.kernel.accessAllowed ? 'block' : 'none';\n",
              "\n",
              "      async function convertToInteractive(key) {\n",
              "        const element = document.querySelector('#df-d5730f45-fa52-4a9a-97e5-d084116c8f86');\n",
              "        const dataTable =\n",
              "          await google.colab.kernel.invokeFunction('convertToInteractive',\n",
              "                                                    [key], {});\n",
              "        if (!dataTable) return;\n",
              "\n",
              "        const docLinkHtml = 'Like what you see? Visit the ' +\n",
              "          '<a target=\"_blank\" href=https://colab.research.google.com/notebooks/data_table.ipynb>data table notebook</a>'\n",
              "          + ' to learn more about interactive tables.';\n",
              "        element.innerHTML = '';\n",
              "        dataTable['output_type'] = 'display_data';\n",
              "        await google.colab.output.renderOutput(dataTable, element);\n",
              "        const docLink = document.createElement('div');\n",
              "        docLink.innerHTML = docLinkHtml;\n",
              "        element.appendChild(docLink);\n",
              "      }\n",
              "    </script>\n",
              "  </div>\n",
              "\n",
              "\n",
              "<div id=\"df-0cffd2af-8905-47c8-86f2-7432913f524b\">\n",
              "  <button class=\"colab-df-quickchart\" onclick=\"quickchart('df-0cffd2af-8905-47c8-86f2-7432913f524b')\"\n",
              "            title=\"Suggest charts\"\n",
              "            style=\"display:none;\">\n",
              "\n",
              "<svg xmlns=\"http://www.w3.org/2000/svg\" height=\"24px\"viewBox=\"0 0 24 24\"\n",
              "     width=\"24px\">\n",
              "    <g>\n",
              "        <path d=\"M19 3H5c-1.1 0-2 .9-2 2v14c0 1.1.9 2 2 2h14c1.1 0 2-.9 2-2V5c0-1.1-.9-2-2-2zM9 17H7v-7h2v7zm4 0h-2V7h2v10zm4 0h-2v-4h2v4z\"/>\n",
              "    </g>\n",
              "</svg>\n",
              "  </button>\n",
              "\n",
              "<style>\n",
              "  .colab-df-quickchart {\n",
              "      --bg-color: #E8F0FE;\n",
              "      --fill-color: #1967D2;\n",
              "      --hover-bg-color: #E2EBFA;\n",
              "      --hover-fill-color: #174EA6;\n",
              "      --disabled-fill-color: #AAA;\n",
              "      --disabled-bg-color: #DDD;\n",
              "  }\n",
              "\n",
              "  [theme=dark] .colab-df-quickchart {\n",
              "      --bg-color: #3B4455;\n",
              "      --fill-color: #D2E3FC;\n",
              "      --hover-bg-color: #434B5C;\n",
              "      --hover-fill-color: #FFFFFF;\n",
              "      --disabled-bg-color: #3B4455;\n",
              "      --disabled-fill-color: #666;\n",
              "  }\n",
              "\n",
              "  .colab-df-quickchart {\n",
              "    background-color: var(--bg-color);\n",
              "    border: none;\n",
              "    border-radius: 50%;\n",
              "    cursor: pointer;\n",
              "    display: none;\n",
              "    fill: var(--fill-color);\n",
              "    height: 32px;\n",
              "    padding: 0;\n",
              "    width: 32px;\n",
              "  }\n",
              "\n",
              "  .colab-df-quickchart:hover {\n",
              "    background-color: var(--hover-bg-color);\n",
              "    box-shadow: 0 1px 2px rgba(60, 64, 67, 0.3), 0 1px 3px 1px rgba(60, 64, 67, 0.15);\n",
              "    fill: var(--button-hover-fill-color);\n",
              "  }\n",
              "\n",
              "  .colab-df-quickchart-complete:disabled,\n",
              "  .colab-df-quickchart-complete:disabled:hover {\n",
              "    background-color: var(--disabled-bg-color);\n",
              "    fill: var(--disabled-fill-color);\n",
              "    box-shadow: none;\n",
              "  }\n",
              "\n",
              "  .colab-df-spinner {\n",
              "    border: 2px solid var(--fill-color);\n",
              "    border-color: transparent;\n",
              "    border-bottom-color: var(--fill-color);\n",
              "    animation:\n",
              "      spin 1s steps(1) infinite;\n",
              "  }\n",
              "\n",
              "  @keyframes spin {\n",
              "    0% {\n",
              "      border-color: transparent;\n",
              "      border-bottom-color: var(--fill-color);\n",
              "      border-left-color: var(--fill-color);\n",
              "    }\n",
              "    20% {\n",
              "      border-color: transparent;\n",
              "      border-left-color: var(--fill-color);\n",
              "      border-top-color: var(--fill-color);\n",
              "    }\n",
              "    30% {\n",
              "      border-color: transparent;\n",
              "      border-left-color: var(--fill-color);\n",
              "      border-top-color: var(--fill-color);\n",
              "      border-right-color: var(--fill-color);\n",
              "    }\n",
              "    40% {\n",
              "      border-color: transparent;\n",
              "      border-right-color: var(--fill-color);\n",
              "      border-top-color: var(--fill-color);\n",
              "    }\n",
              "    60% {\n",
              "      border-color: transparent;\n",
              "      border-right-color: var(--fill-color);\n",
              "    }\n",
              "    80% {\n",
              "      border-color: transparent;\n",
              "      border-right-color: var(--fill-color);\n",
              "      border-bottom-color: var(--fill-color);\n",
              "    }\n",
              "    90% {\n",
              "      border-color: transparent;\n",
              "      border-bottom-color: var(--fill-color);\n",
              "    }\n",
              "  }\n",
              "</style>\n",
              "\n",
              "  <script>\n",
              "    async function quickchart(key) {\n",
              "      const quickchartButtonEl =\n",
              "        document.querySelector('#' + key + ' button');\n",
              "      quickchartButtonEl.disabled = true;  // To prevent multiple clicks.\n",
              "      quickchartButtonEl.classList.add('colab-df-spinner');\n",
              "      try {\n",
              "        const charts = await google.colab.kernel.invokeFunction(\n",
              "            'suggestCharts', [key], {});\n",
              "      } catch (error) {\n",
              "        console.error('Error during call to suggestCharts:', error);\n",
              "      }\n",
              "      quickchartButtonEl.classList.remove('colab-df-spinner');\n",
              "      quickchartButtonEl.classList.add('colab-df-quickchart-complete');\n",
              "    }\n",
              "    (() => {\n",
              "      let quickchartButtonEl =\n",
              "        document.querySelector('#df-0cffd2af-8905-47c8-86f2-7432913f524b button');\n",
              "      quickchartButtonEl.style.display =\n",
              "        google.colab.kernel.accessAllowed ? 'block' : 'none';\n",
              "    })();\n",
              "  </script>\n",
              "</div>\n",
              "\n",
              "  <div id=\"id_949c132c-f891-4f1f-97a2-2301bfea8f77\">\n",
              "    <style>\n",
              "      .colab-df-generate {\n",
              "        background-color: #E8F0FE;\n",
              "        border: none;\n",
              "        border-radius: 50%;\n",
              "        cursor: pointer;\n",
              "        display: none;\n",
              "        fill: #1967D2;\n",
              "        height: 32px;\n",
              "        padding: 0 0 0 0;\n",
              "        width: 32px;\n",
              "      }\n",
              "\n",
              "      .colab-df-generate:hover {\n",
              "        background-color: #E2EBFA;\n",
              "        box-shadow: 0px 1px 2px rgba(60, 64, 67, 0.3), 0px 1px 3px 1px rgba(60, 64, 67, 0.15);\n",
              "        fill: #174EA6;\n",
              "      }\n",
              "\n",
              "      [theme=dark] .colab-df-generate {\n",
              "        background-color: #3B4455;\n",
              "        fill: #D2E3FC;\n",
              "      }\n",
              "\n",
              "      [theme=dark] .colab-df-generate:hover {\n",
              "        background-color: #434B5C;\n",
              "        box-shadow: 0px 1px 3px 1px rgba(0, 0, 0, 0.15);\n",
              "        filter: drop-shadow(0px 1px 2px rgba(0, 0, 0, 0.3));\n",
              "        fill: #FFFFFF;\n",
              "      }\n",
              "    </style>\n",
              "    <button class=\"colab-df-generate\" onclick=\"generateWithVariable('df_ground_truth')\"\n",
              "            title=\"Generate code using this dataframe.\"\n",
              "            style=\"display:none;\">\n",
              "\n",
              "  <svg xmlns=\"http://www.w3.org/2000/svg\" height=\"24px\"viewBox=\"0 0 24 24\"\n",
              "       width=\"24px\">\n",
              "    <path d=\"M7,19H8.4L18.45,9,17,7.55,7,17.6ZM5,21V16.75L18.45,3.32a2,2,0,0,1,2.83,0l1.4,1.43a1.91,1.91,0,0,1,.58,1.4,1.91,1.91,0,0,1-.58,1.4L9.25,21ZM18.45,9,17,7.55Zm-12,3A5.31,5.31,0,0,0,4.9,8.1,5.31,5.31,0,0,0,1,6.5,5.31,5.31,0,0,0,4.9,4.9,5.31,5.31,0,0,0,6.5,1,5.31,5.31,0,0,0,8.1,4.9,5.31,5.31,0,0,0,12,6.5,5.46,5.46,0,0,0,6.5,12Z\"/>\n",
              "  </svg>\n",
              "    </button>\n",
              "    <script>\n",
              "      (() => {\n",
              "      const buttonEl =\n",
              "        document.querySelector('#id_949c132c-f891-4f1f-97a2-2301bfea8f77 button.colab-df-generate');\n",
              "      buttonEl.style.display =\n",
              "        google.colab.kernel.accessAllowed ? 'block' : 'none';\n",
              "\n",
              "      buttonEl.onclick = () => {\n",
              "        google.colab.notebook.generateWithVariable('df_ground_truth');\n",
              "      }\n",
              "      })();\n",
              "    </script>\n",
              "  </div>\n",
              "\n",
              "    </div>\n",
              "  </div>\n"
            ],
            "application/vnd.google.colaboratory.intrinsic+json": {
              "type": "dataframe",
              "variable_name": "df_ground_truth",
              "summary": "{\n  \"name\": \"df_ground_truth\",\n  \"rows\": 65,\n  \"fields\": [\n    {\n      \"column\": \"question\",\n      \"properties\": {\n        \"dtype\": \"string\",\n        \"num_unique_values\": 65,\n        \"samples\": [\n          \"What is the expected weekly time investment for this course?\",\n          \"Where can students watch the live stream of the Office Hour or workshop sessions?\",\n          \"When is the commencement date and time of the course?\"\n        ],\n        \"semantic_type\": \"\",\n        \"description\": \"\"\n      }\n    },\n    {\n      \"column\": \"course\",\n      \"properties\": {\n        \"dtype\": \"category\",\n        \"num_unique_values\": 1,\n        \"samples\": [\n          \"data-engineering-zoomcamp\"\n        ],\n        \"semantic_type\": \"\",\n        \"description\": \"\"\n      }\n    },\n    {\n      \"column\": \"document\",\n      \"properties\": {\n        \"dtype\": \"category\",\n        \"num_unique_values\": 13,\n        \"samples\": [\n          \"cb257ee5\"\n        ],\n        \"semantic_type\": \"\",\n        \"description\": \"\"\n      }\n    }\n  ]\n}"
            }
          },
          "metadata": {},
          "execution_count": 13
        }
      ]
    },
    {
      "cell_type": "code",
      "source": [
        "ground_truth = df_ground_truth.to_dict(orient='records') # Converts the DataFrame to a list of dictionaries, where each list item contains all column values for one row."
      ],
      "metadata": {
        "id": "p3lqingCM1yw"
      },
      "execution_count": null,
      "outputs": []
    },
    {
      "cell_type": "code",
      "source": [
        "relevance_total = []  # Creates an empty list to store relevance results.\n",
        "\n",
        "for q in tqdm(ground_truth):  # Iterates through each item in ground_truth using a tqdm progress bar.\n",
        "    doc_id = q['document']  # Retrieves the document ID in the results.\n",
        "    results = elastic_search(query=q['question'], course=q['course']) # Performs an Elasticsearch search using the question as query, and limitied to course information.\n",
        "    relevance = [d['id'] == doc_id for d in results]  # Checks if each search result's ID matches the correct document ID, producing a list of Boolean values.\n",
        "    relevance_total.append(relevance) # Adds the relevance result to the total results list."
      ],
      "metadata": {
        "colab": {
          "base_uri": "https://localhost:8080/",
          "height": 49,
          "referenced_widgets": [
            "b38c8721717749d4b6856e06cebdf0d0",
            "c73f2971ccff43b08de3b517fddf3896",
            "d6834141230442528e63b60ce18fc659",
            "773e118ecc254b6ea35e2a45c1f4b3d0",
            "0eaecb813070495386249486fc6bda55",
            "06b4607b81ec4a6ebbdaa1aace436c74",
            "627b7e985da94af5ac7c123fb917f7be",
            "adc1bfd8e1064f5d8896a5e930654cdc",
            "29a0fd9bc1b14053af33c8437c0143b3",
            "7e903509212d40f9a114cc3b1b9ac1a9",
            "d4885f74a4cc415da47efc0dc819bcdd"
          ]
        },
        "id": "iU21zQyZNTMl",
        "outputId": "d4c3764c-e401-4207-a8b8-62b8363e1cd5"
      },
      "execution_count": null,
      "outputs": [
        {
          "output_type": "display_data",
          "data": {
            "text/plain": [
              "  0%|          | 0/65 [00:00<?, ?it/s]"
            ],
            "application/vnd.jupyter.widget-view+json": {
              "version_major": 2,
              "version_minor": 0,
              "model_id": "b38c8721717749d4b6856e06cebdf0d0"
            }
          },
          "metadata": {}
        }
      ]
    },
    {
      "cell_type": "code",
      "source": [
        "ground_truth"
      ],
      "metadata": {
        "colab": {
          "base_uri": "https://localhost:8080/"
        },
        "id": "jRyyyk8pUFkL",
        "outputId": "c0cbc2ce-d244-42cb-fee8-4a9bda44d13a"
      },
      "execution_count": null,
      "outputs": [
        {
          "output_type": "execute_result",
          "data": {
            "text/plain": [
              "[{'question': 'When is the commencement date and time of the course?',\n",
              "  'course': 'data-engineering-zoomcamp',\n",
              "  'document': 'c02e79ef'},\n",
              " {'question': \"How can I subscribe to the course's public Google Calendar?\",\n",
              "  'course': 'data-engineering-zoomcamp',\n",
              "  'document': 'c02e79ef'},\n",
              " {'question': 'Is there a link to register for the course before it begins?',\n",
              "  'course': 'data-engineering-zoomcamp',\n",
              "  'document': 'c02e79ef'},\n",
              " {'question': 'Where can I join the Telegram channel for course announcements?',\n",
              "  'course': 'data-engineering-zoomcamp',\n",
              "  'document': 'c02e79ef'},\n",
              " {'question': 'Which Slack channel should I join for the course discussions?',\n",
              "  'course': 'data-engineering-zoomcamp',\n",
              "  'document': 'c02e79ef'},\n",
              " {'question': 'What should I know before starting this data engineering course?',\n",
              "  'course': 'data-engineering-zoomcamp',\n",
              "  'document': '1f6520ca'},\n",
              " {'question': 'Are there any recommended skills or knowledge for this course?',\n",
              "  'course': 'data-engineering-zoomcamp',\n",
              "  'document': '1f6520ca'},\n",
              " {'question': 'Where can I find the prerequisites for joining the course?',\n",
              "  'course': 'data-engineering-zoomcamp',\n",
              "  'document': '1f6520ca'},\n",
              " {'question': 'Is there a list of required knowledge to enroll in this course?',\n",
              "  'course': 'data-engineering-zoomcamp',\n",
              "  'document': '1f6520ca'},\n",
              " {'question': 'How do I check if I meet the entry requirements for this course?',\n",
              "  'course': 'data-engineering-zoomcamp',\n",
              "  'document': '1f6520ca'},\n",
              " {'question': 'Is it possible to enroll in the class after it begins?',\n",
              "  'course': 'data-engineering-zoomcamp',\n",
              "  'document': '7842b56a'},\n",
              " {'question': 'Do I have the option to participate after the course commencement date?',\n",
              "  'course': 'data-engineering-zoomcamp',\n",
              "  'document': '7842b56a'},\n",
              " {'question': 'Am I allowed to join the course even after it has started?',\n",
              "  'course': 'data-engineering-zoomcamp',\n",
              "  'document': '7842b56a'},\n",
              " {'question': \"Can I participate in the class if I haven't registered by the start date?\",\n",
              "  'course': 'data-engineering-zoomcamp',\n",
              "  'document': '7842b56a'},\n",
              " {'question': 'Is late joining permitted in this course?',\n",
              "  'course': 'data-engineering-zoomcamp',\n",
              "  'document': '7842b56a'},\n",
              " {'question': 'When will I get a confirmation after registration for the Data Engineering Bootcamp?',\n",
              "  'course': 'data-engineering-zoomcamp',\n",
              "  'document': '0bbf41ec'},\n",
              " {'question': 'Is there a need to wait for a confirmation email to start the bootcamp?',\n",
              "  'course': 'data-engineering-zoomcamp',\n",
              "  'document': '0bbf41ec'},\n",
              " {'question': 'Can I begin learning and submitting assignments without registering?',\n",
              "  'course': 'data-engineering-zoomcamp',\n",
              "  'document': '0bbf41ec'},\n",
              " {'question': 'How does registration affect my participation in the bootcamp?',\n",
              "  'course': 'data-engineering-zoomcamp',\n",
              "  'document': '0bbf41ec'},\n",
              " {'question': 'Is the registration list verified before accessing course materials?',\n",
              "  'course': 'data-engineering-zoomcamp',\n",
              "  'document': '0bbf41ec'},\n",
              " {'question': 'What is required to set up before the course begins?',\n",
              "  'course': 'data-engineering-zoomcamp',\n",
              "  'document': '63394d91'},\n",
              " {'question': 'How should I prepare before the start of the course?',\n",
              "  'course': 'data-engineering-zoomcamp',\n",
              "  'document': '63394d91'},\n",
              " {'question': 'What installations are necessary prior to the course?',\n",
              "  'course': 'data-engineering-zoomcamp',\n",
              "  'document': '63394d91'},\n",
              " {'question': 'What actions can be taken in advance of the course?',\n",
              "  'course': 'data-engineering-zoomcamp',\n",
              "  'document': '63394d91'},\n",
              " {'question': 'How can I ensure I am ready before the course commences?',\n",
              "  'course': 'data-engineering-zoomcamp',\n",
              "  'document': '63394d91'},\n",
              " {'question': 'How many Zoomcamps are offered in a year?',\n",
              "  'course': 'data-engineering-zoomcamp',\n",
              "  'document': '2ed9b986'},\n",
              " {'question': 'When does the Data-Engineering Zoomcamp cohort typically occur?',\n",
              "  'course': 'data-engineering-zoomcamp',\n",
              "  'document': '2ed9b986'},\n",
              " {'question': 'Can I take the Zoomcamp without pursuing certification?',\n",
              "  'course': 'data-engineering-zoomcamp',\n",
              "  'document': '2ed9b986'},\n",
              " {'question': 'Are there multiple live cohorts for each course annually?',\n",
              "  'course': 'data-engineering-zoomcamp',\n",
              "  'document': '2ed9b986'},\n",
              " {'question': 'During which months is the MLOps Zoomcamp scheduled?',\n",
              "  'course': 'data-engineering-zoomcamp',\n",
              "  'document': '2ed9b986'},\n",
              " {'question': 'Will the 2024 cohort use Mage AI or Prefect?',\n",
              "  'course': 'data-engineering-zoomcamp',\n",
              "  'document': '93e2c8ed'},\n",
              " {'question': 'Have the terraform videos been updated for 2024?',\n",
              "  'course': 'data-engineering-zoomcamp',\n",
              "  'document': '93e2c8ed'},\n",
              " {'question': 'Which tool was used in 2023, Prefect or Airflow?',\n",
              "  'course': 'data-engineering-zoomcamp',\n",
              "  'document': '93e2c8ed'},\n",
              " {'question': 'Is the 2024 edition different from the 2023 edition in terms of course content?',\n",
              "  'course': 'data-engineering-zoomcamp',\n",
              "  'document': '93e2c8ed'},\n",
              " {'question': 'What significant changes have been made for the 2024 course compared to 2023?',\n",
              "  'course': 'data-engineering-zoomcamp',\n",
              "  'document': '93e2c8ed'},\n",
              " {'question': 'Can I access course materials after it ends?',\n",
              "  'course': 'data-engineering-zoomcamp',\n",
              "  'document': 'a482086d'},\n",
              " {'question': 'Is it possible to complete assignments once the course is over?',\n",
              "  'course': 'data-engineering-zoomcamp',\n",
              "  'document': 'a482086d'},\n",
              " {'question': 'Will I be able to prepare for future cohorts post-course?',\n",
              "  'course': 'data-engineering-zoomcamp',\n",
              "  'document': 'a482086d'},\n",
              " {'question': 'Can I work on the capstone project after the course concludes?',\n",
              "  'course': 'data-engineering-zoomcamp',\n",
              "  'document': 'a482086d'},\n",
              " {'question': 'Are the course resources available indefinitely beyond the course duration?',\n",
              "  'course': 'data-engineering-zoomcamp',\n",
              "  'document': 'a482086d'},\n",
              " {'question': 'Is support available if I enroll in the self-paced course mode?',\n",
              "  'course': 'data-engineering-zoomcamp',\n",
              "  'document': 'eb56ae98'},\n",
              " {'question': 'Can I ask questions in the slack channel for the self-paced course?',\n",
              "  'course': 'data-engineering-zoomcamp',\n",
              "  'document': 'eb56ae98'},\n",
              " {'question': 'Should I check the FAQ document before asking questions about the self-paced course?',\n",
              "  'course': 'data-engineering-zoomcamp',\n",
              "  'document': 'eb56ae98'},\n",
              " {'question': 'Is it recommended to tag the bot @ZoomcampQABot for searching course-related questions?',\n",
              "  'course': 'data-engineering-zoomcamp',\n",
              "  'document': 'eb56ae98'},\n",
              " {'question': 'How reliable are the answers provided by the bot @ZoomcampQABot for course inquiries?',\n",
              "  'course': 'data-engineering-zoomcamp',\n",
              "  'document': 'eb56ae98'},\n",
              " {'question': 'Which playlist should I consult on YouTube for the primary videos of the course?',\n",
              "  'course': 'data-engineering-zoomcamp',\n",
              "  'document': '4292531b'},\n",
              " {'question': 'Where can I find a direct link to the main course videos on YouTube?',\n",
              "  'course': 'data-engineering-zoomcamp',\n",
              "  'document': '4292531b'},\n",
              " {'question': 'How do I access additional videos for specific years related to the course?',\n",
              "  'course': 'data-engineering-zoomcamp',\n",
              "  'document': '4292531b'},\n",
              " {'question': 'Where on GitHub can I find an organized list of course videos with thumbnails?',\n",
              "  'course': 'data-engineering-zoomcamp',\n",
              "  'document': '4292531b'},\n",
              " {'question': 'Where is the YouTube playlist pinned for easy access on Slack?',\n",
              "  'course': 'data-engineering-zoomcamp',\n",
              "  'document': '4292531b'},\n",
              " {'question': 'How many weekly hours should I dedicate to this course?',\n",
              "  'course': 'data-engineering-zoomcamp',\n",
              "  'document': 'ea739c65'},\n",
              " {'question': 'What is the estimated weekly time commitment for this course?',\n",
              "  'course': 'data-engineering-zoomcamp',\n",
              "  'document': 'ea739c65'},\n",
              " {'question': 'How many hours per week might a student need for this course?',\n",
              "  'course': 'data-engineering-zoomcamp',\n",
              "  'document': 'ea739c65'},\n",
              " {'question': 'What is the expected weekly time investment for this course?',\n",
              "  'course': 'data-engineering-zoomcamp',\n",
              "  'document': 'ea739c65'},\n",
              " {'question': 'How much weekly time is typically needed for this course?',\n",
              "  'course': 'data-engineering-zoomcamp',\n",
              "  'document': 'ea739c65'},\n",
              " {'question': 'Is self-paced mode eligible for a certificate?',\n",
              "  'course': 'data-engineering-zoomcamp',\n",
              "  'document': 'cb257ee5'},\n",
              " {'question': 'Can I earn a certificate without joining a live cohort?',\n",
              "  'course': 'data-engineering-zoomcamp',\n",
              "  'document': 'cb257ee5'},\n",
              " {'question': \"Why can't self-paced mode participants receive certificates?\",\n",
              "  'course': 'data-engineering-zoomcamp',\n",
              "  'document': 'cb257ee5'},\n",
              " {'question': 'Are certificates available if I submit projects outside live sessions?',\n",
              "  'course': 'data-engineering-zoomcamp',\n",
              "  'document': 'cb257ee5'},\n",
              " {'question': 'Does peer-review affect certificate eligibility in self-paced mode?',\n",
              "  'course': 'data-engineering-zoomcamp',\n",
              "  'document': 'cb257ee5'},\n",
              " {'question': 'Where can students watch the live stream of the Office Hour or workshop sessions?',\n",
              "  'course': 'data-engineering-zoomcamp',\n",
              "  'document': '04aa4897'},\n",
              " {'question': 'How should students submit questions during the live sessions?',\n",
              "  'course': 'data-engineering-zoomcamp',\n",
              "  'document': '04aa4897'},\n",
              " {'question': 'Where is the YouTube URL for the Office Hour streams posted prior to starting?',\n",
              "  'course': 'data-engineering-zoomcamp',\n",
              "  'document': '04aa4897'},\n",
              " {'question': 'Why is it not recommended to post questions in the chat during live sessions?',\n",
              "  'course': 'data-engineering-zoomcamp',\n",
              "  'document': '04aa4897'},\n",
              " {'question': 'Who is given access to the Zoom link for the Office Hour or workshop sessions?',\n",
              "  'course': 'data-engineering-zoomcamp',\n",
              "  'document': '04aa4897'}]"
            ]
          },
          "metadata": {},
          "execution_count": 17
        }
      ]
    },
    {
      "cell_type": "code",
      "source": [
        "# This result indicates:\n",
        "\n",
        "# The document ID of the first search result (index 0) matches the correct answer (doc_id), so it’s True.\n",
        "# The document IDs of the other four search results (index 1-4) do not match the correct answer, so they’re False.\n",
        "# This is used to evaluate search accuracy — checking if Elasticsearch ranks the correct document at the top of the search results. In this example, the correct document is ranked first.\n",
        "\n",
        "relevance"
      ],
      "metadata": {
        "colab": {
          "base_uri": "https://localhost:8080/"
        },
        "id": "Y67NdH95ULjp",
        "outputId": "862c536e-8aed-4faa-df89-7737d023acc0"
      },
      "execution_count": null,
      "outputs": [
        {
          "output_type": "execute_result",
          "data": {
            "text/plain": [
              "[True, False, False, False, False]"
            ]
          },
          "metadata": {},
          "execution_count": 20
        }
      ]
    },
    {
      "cell_type": "code",
      "source": [
        "results"
      ],
      "metadata": {
        "colab": {
          "base_uri": "https://localhost:8080/"
        },
        "id": "q0vm76ivUORM",
        "outputId": "cbdd50b2-ee15-4665-8c3e-d9318b8404b7"
      },
      "execution_count": null,
      "outputs": [
        {
          "output_type": "execute_result",
          "data": {
            "text/plain": [
              "[{'text': 'The zoom link is only published to instructors/presenters/TAs.\\nStudents participate via Youtube Live and submit questions to Slido (link would be pinned in the chat when Alexey goes Live). The video URL should be posted in the announcements channel on Telegram & Slack before it begins. Also, you will see it live on the DataTalksClub YouTube Channel.\\nDon’t post your questions in chat as it would be off-screen before the instructors/moderators have a chance to answer it if the room is very active.',\n",
              "  'section': 'General course-related questions',\n",
              "  'question': 'Office Hours - What is the video/zoom link to the stream for the “Office Hour” or workshop sessions?',\n",
              "  'course': 'data-engineering-zoomcamp',\n",
              "  'id': '04aa4897'},\n",
              " {'text': 'We will probably have some calls during the Capstone period to clear some questions but it will be announced in advance if that happens.',\n",
              "  'section': 'General course-related questions',\n",
              "  'question': 'Besides the “Office Hour” which are the live zoom calls?',\n",
              "  'course': 'data-engineering-zoomcamp',\n",
              "  'id': '52393fb3'},\n",
              " {'text': 'Yes! Every “Office Hours” will be recorded and available a few minutes after the live session is over; so you can view (or rewatch) whenever you want.',\n",
              "  'section': 'General course-related questions',\n",
              "  'question': 'Office Hours - I can’t attend the “Office hours” / workshop, will it be recorded?',\n",
              "  'course': 'data-engineering-zoomcamp',\n",
              "  'id': '9681be3b'},\n",
              " {'text': 'Ans: No, it is not.',\n",
              "  'section': 'Workshop 2 - RisingWave',\n",
              "  'question': 'Setup - Qn: Is kafka install required for the RisingWave workshop? [source]',\n",
              "  'course': 'data-engineering-zoomcamp',\n",
              "  'id': '97170587'},\n",
              " {'text': 'Answer: In short, it’s your repository on github, gitlab, bitbucket, etc\\nIn long, your repository or any other location you have your code where a reasonable person would look at it and think yes, you went through the week and exercises.',\n",
              "  'section': 'General course-related questions',\n",
              "  'question': 'Homework - What is the homework URL in the homework link?',\n",
              "  'course': 'data-engineering-zoomcamp',\n",
              "  'id': '0e424a44'}]"
            ]
          },
          "metadata": {},
          "execution_count": 19
        }
      ]
    },
    {
      "cell_type": "code",
      "source": [
        "# Why are there 5 [False, True, False, False, False] grouped together?\n",
        "# in previous code, we indicate that size = 5\n",
        "\n",
        "relevance_total\n",
        "\n",
        "# These 5 represent the top 5 search results returned by Elasticsearch.\n",
        "# The system is set to return the 5 most relevant documents for each search,\n",
        "# and then checks which of these 5 results contain the correct answer (True) and which do not (False).\n",
        "# This allows for an assessment of the ranking quality of the search results."
      ],
      "metadata": {
        "colab": {
          "base_uri": "https://localhost:8080/"
        },
        "id": "b7BuXlgBapBz",
        "outputId": "9de7ce8c-0c39-4d80-ba64-8fb29e1b9357"
      },
      "execution_count": null,
      "outputs": [
        {
          "output_type": "execute_result",
          "data": {
            "text/plain": [
              "[[False, True, False, False, False],\n",
              " [False, False, False, False, False],\n",
              " [False, False, False, False, False],\n",
              " [False, False, False, False, False],\n",
              " [False, False, False, False, False],\n",
              " [False, True, False, False, False],\n",
              " [True, False, False, False, False],\n",
              " [False, True, False, False, False],\n",
              " [False, True, False, False, False],\n",
              " [False, False, False, False, False],\n",
              " [False, False, False, False, False],\n",
              " [True, False, False, False, False],\n",
              " [True, False, False, False, False],\n",
              " [True, False, False, False, False],\n",
              " [False, False, False, False, False],\n",
              " [True, False, False, False, False],\n",
              " [True, False, False, False, False],\n",
              " [True, False, False, False, False],\n",
              " [False, False, True, False, False],\n",
              " [False, False, False, False, False],\n",
              " [True, False, False, False, False],\n",
              " [True, False, False, False, False],\n",
              " [False, True, False, False, False],\n",
              " [True, False, False, False, False],\n",
              " [True, False, False, False, False],\n",
              " [True, False, False, False, False],\n",
              " [False, False, False, False, False],\n",
              " [False, False, False, False, False],\n",
              " [False, False, False, False, False],\n",
              " [False, False, False, False, False],\n",
              " [False, False, True, False, False],\n",
              " [False, False, False, False, False],\n",
              " [False, False, False, True, False],\n",
              " [True, False, False, False, False],\n",
              " [False, False, False, False, False],\n",
              " [True, False, False, False, False],\n",
              " [False, False, False, False, False],\n",
              " [False, False, False, False, False],\n",
              " [True, False, False, False, False],\n",
              " [False, False, False, True, False],\n",
              " [True, False, False, False, False],\n",
              " [True, False, False, False, False],\n",
              " [True, False, False, False, False],\n",
              " [False, False, False, False, False],\n",
              " [False, False, False, False, False],\n",
              " [True, False, False, False, False],\n",
              " [False, True, False, False, False],\n",
              " [False, False, False, False, False],\n",
              " [False, False, False, False, False],\n",
              " [True, False, False, False, False],\n",
              " [True, False, False, False, False],\n",
              " [False, False, False, False, False],\n",
              " [True, False, False, False, False],\n",
              " [False, True, False, False, False],\n",
              " [False, False, False, True, False],\n",
              " [True, False, False, False, False],\n",
              " [True, False, False, False, False],\n",
              " [False, True, False, False, False],\n",
              " [False, False, False, False, False],\n",
              " [True, False, False, False, False],\n",
              " [True, False, False, False, False],\n",
              " [False, False, False, False, True],\n",
              " [True, False, False, False, False],\n",
              " [False, True, False, False, False],\n",
              " [True, False, False, False, False]]"
            ]
          },
          "metadata": {},
          "execution_count": 51
        }
      ]
    },
    {
      "cell_type": "markdown",
      "source": [
        "# Hit Rate (HR) or Recall at k:\n",
        "\n",
        "## Measures the proportion of queries for which at least one relevant document is retrieved in the top k results.\n",
        "## Formula: HR@k = (Number of queries with at least one relevant document in top k) / |Q|"
      ],
      "metadata": {
        "id": "dphyeXcof-Ci"
      }
    },
    {
      "cell_type": "code",
      "source": [
        "# relevance_total shows the evaluation of search results for each question:\n",
        "\n",
        "# Each sublist represents the search results for one question (with a total of 5 results).\n",
        "# True means the document ID of that search result matches the correct answer.\n",
        "# False means it does not match.\n",
        "# For example, [False, True, False, False, False] represents:\n",
        "\n",
        "# The second search result is the correct document.\n",
        "# The other 4 results are not the correct document.\n",
        "# This allows for evaluating the performance of the search system:\n",
        "\n",
        "# If True appears in one of the top positions, it indicates better search effectiveness.\n",
        "# If True appears in a lower position or there is no True, it indicates poorer search effectiveness.\n",
        "\n",
        "example = [\n",
        "    [True, False, False, False, False], # 1\n",
        "    [False, False, False, False, False], # 0\n",
        "    [False, False, False, False, False], # 0\n",
        "    [False, False, False, False, False], # 0\n",
        "    [False, False, False, False, False], # 0\n",
        "    [True, False, False, False, False], # 1\n",
        "    [True, False, False, False, False], # 1\n",
        "    [True, False, False, False, False], # 1\n",
        "    [True, False, False, False, False], # 1\n",
        "    [True, False, False, False, False], # 1\n",
        "    [False, False, True, False, False],  # 1\n",
        "    [False, False, False, False, False], # 0\n",
        "]"
      ],
      "metadata": {
        "id": "KZXwZjLZPk7x"
      },
      "execution_count": null,
      "outputs": []
    },
    {
      "cell_type": "code",
      "source": [
        "len(example)"
      ],
      "metadata": {
        "colab": {
          "base_uri": "https://localhost:8080/"
        },
        "id": "gAVh0Y0ub6P_",
        "outputId": "074e0d12-cda5-41e1-d20d-7960694b9fae"
      },
      "execution_count": null,
      "outputs": [
        {
          "output_type": "execute_result",
          "data": {
            "text/plain": [
              "12"
            ]
          },
          "metadata": {},
          "execution_count": 23
        }
      ]
    },
    {
      "cell_type": "code",
      "source": [
        "7 / len(example)"
      ],
      "metadata": {
        "colab": {
          "base_uri": "https://localhost:8080/"
        },
        "id": "Rjo4lwuWgDk_",
        "outputId": "1afc5ea7-60d3-4875-e7d0-4df59845ddb1"
      },
      "execution_count": null,
      "outputs": [
        {
          "output_type": "execute_result",
          "data": {
            "text/plain": [
              "0.5833333333333334"
            ]
          },
          "metadata": {},
          "execution_count": 35
        }
      ]
    },
    {
      "cell_type": "code",
      "source": [
        "def hit_rate(relevance_total):\n",
        "    cnt = 0\n",
        "\n",
        "    for line in relevance_total:\n",
        "        if True in line:\n",
        "            cnt = cnt + 1\n",
        "\n",
        "    return cnt / len(relevance_total)"
      ],
      "metadata": {
        "id": "Tg16y1X4gG7z"
      },
      "execution_count": null,
      "outputs": []
    },
    {
      "cell_type": "code",
      "source": [
        "hit_rate(example)"
      ],
      "metadata": {
        "colab": {
          "base_uri": "https://localhost:8080/"
        },
        "id": "QwDpAtaihMuD",
        "outputId": "4585a5fe-46e9-40fe-c448-1410441308c1"
      },
      "execution_count": null,
      "outputs": [
        {
          "output_type": "execute_result",
          "data": {
            "text/plain": [
              "0.5833333333333334"
            ]
          },
          "metadata": {},
          "execution_count": 46
        }
      ]
    },
    {
      "cell_type": "markdown",
      "source": [
        "# Mean Reciprocal Rank (MRR):\n",
        "\n",
        "## Evaluates the rank position of the first relevant document.\n",
        "## Formula: MRR = (1 / |Q|) * Σ (1 / rank_i) for i = 1 to |Q|"
      ],
      "metadata": {
        "id": "aSYLd_XChfXl"
      }
    },
    {
      "cell_type": "code",
      "source": [
        "example = [\n",
        "    [True, False, False, False, False], # 1,\n",
        "    [False, False, False, False, False], # 0\n",
        "    [False, False, False, False, False], # 0\n",
        "    [False, False, False, False, False], # 0\n",
        "    [False, False, False, False, False], # 0\n",
        "    [True, False, False, False, False], # 1\n",
        "    [True, False, False, False, False], # 1\n",
        "    [True, False, False, False, False], # 1\n",
        "    [True, False, False, False, False], # 1\n",
        "    [True, False, False, False, False], # 1\n",
        "    [False, False, True, False, False],  # 1/3\n",
        "    [False, False, False, False, False], # 0\n",
        "]\n",
        "\n",
        "# Evaluates the rank position of the first relevant document:\n",
        "\n",
        "\"\"\"\n",
        "rank => 1 / rank\n",
        "\"\"\"\n",
        "# none => 0\n",
        "\n",
        "# for first position we add 1: # 1 => 1\n",
        "# for second position we add 1 / 2: # 2 => 1 / 2 = 0.5\n",
        "# for third position we add 1 / 3: # 3 => 1 / 3 = 0.3333\n",
        "# for forth position we add 1 / 4: # 4 => 0.25\n",
        "# for fifth position we add 1 / 5: # 5 => 0.2"
      ],
      "metadata": {
        "colab": {
          "base_uri": "https://localhost:8080/",
          "height": 35
        },
        "id": "fpCW8GYchSQJ",
        "outputId": "bc9bf1e2-ad09-4499-feff-8ad36d7f90bd"
      },
      "execution_count": null,
      "outputs": [
        {
          "output_type": "execute_result",
          "data": {
            "text/plain": [
              "'\\nrank => 1 / rank\\n'"
            ],
            "application/vnd.google.colaboratory.intrinsic+json": {
              "type": "string"
            }
          },
          "metadata": {},
          "execution_count": 37
        }
      ]
    },
    {
      "cell_type": "code",
      "source": [
        "def mrr(relevance_total):\n",
        "    total_score = 0.0\n",
        "\n",
        "    for line in relevance_total:\n",
        "        for rank in range(len(line)):\n",
        "            if line[rank] == True:\n",
        "                total_score = total_score + 1 / (rank + 1)\n",
        "\n",
        "    return total_score / len(relevance_total)"
      ],
      "metadata": {
        "id": "Rm3BDUQslJRM"
      },
      "execution_count": null,
      "outputs": []
    },
    {
      "cell_type": "code",
      "source": [
        "mrr(example)"
      ],
      "metadata": {
        "colab": {
          "base_uri": "https://localhost:8080/"
        },
        "id": "zHe2V1hklZaK",
        "outputId": "bf09ef5d-584f-469a-c389-fb5bd9975b99"
      },
      "execution_count": null,
      "outputs": [
        {
          "output_type": "execute_result",
          "data": {
            "text/plain": [
              "0.5277777777777778"
            ]
          },
          "metadata": {},
          "execution_count": 48
        }
      ]
    },
    {
      "cell_type": "markdown",
      "source": [
        "# hit-rate (recall) and Mean Reciprocal Rank (mrr)"
      ],
      "metadata": {
        "id": "RCHONQooljlA"
      }
    },
    {
      "cell_type": "code",
      "source": [
        "hit_rate(relevance_total), mrr(relevance_total)"
      ],
      "metadata": {
        "colab": {
          "base_uri": "https://localhost:8080/"
        },
        "id": "OfAbt6-dla-B",
        "outputId": "67c208cb-da98-4639-8c8e-09f771b0bc9b"
      },
      "execution_count": null,
      "outputs": [
        {
          "output_type": "execute_result",
          "data": {
            "text/plain": [
              "(0.6615384615384615, 0.5248717948717949)"
            ]
          },
          "metadata": {},
          "execution_count": 44
        }
      ]
    },
    {
      "cell_type": "markdown",
      "source": [
        "# minsearch"
      ],
      "metadata": {
        "id": "y3njy0anp1th"
      }
    },
    {
      "cell_type": "code",
      "source": [
        "!wget https://raw.githubusercontent.com/alexeygrigorev/minsearch/main/minsearch.py"
      ],
      "metadata": {
        "colab": {
          "base_uri": "https://localhost:8080/"
        },
        "id": "vyE_elKgp2lQ",
        "outputId": "c1471591-e8fe-43ec-8c84-b48fbd1914df"
      },
      "execution_count": null,
      "outputs": [
        {
          "output_type": "stream",
          "name": "stdout",
          "text": [
            "--2024-11-14 17:10:33--  https://raw.githubusercontent.com/alexeygrigorev/minsearch/main/minsearch.py\n",
            "Resolving raw.githubusercontent.com (raw.githubusercontent.com)... 185.199.108.133, 185.199.109.133, 185.199.110.133, ...\n",
            "Connecting to raw.githubusercontent.com (raw.githubusercontent.com)|185.199.108.133|:443... connected.\n",
            "HTTP request sent, awaiting response... 200 OK\n",
            "Length: 3832 (3.7K) [text/plain]\n",
            "Saving to: ‘minsearch.py’\n",
            "\n",
            "minsearch.py        100%[===================>]   3.74K  --.-KB/s    in 0s      \n",
            "\n",
            "2024-11-14 17:10:34 (72.5 MB/s) - ‘minsearch.py’ saved [3832/3832]\n",
            "\n"
          ]
        }
      ]
    },
    {
      "cell_type": "code",
      "source": [
        "import minsearch\n",
        "\n",
        "index = minsearch.Index(\n",
        "    text_fields=[\"question\", \"text\", \"section\"],\n",
        "    keyword_fields=[\"course\", \"id\"]\n",
        ")\n",
        "\n",
        "index.fit(documents)"
      ],
      "metadata": {
        "colab": {
          "base_uri": "https://localhost:8080/"
        },
        "id": "zgJ-oZBMp5N0",
        "outputId": "39d6a3bd-0651-44d5-b6de-b3b8460c8463"
      },
      "execution_count": null,
      "outputs": [
        {
          "output_type": "execute_result",
          "data": {
            "text/plain": [
              "<minsearch.Index at 0x7c5f54162320>"
            ]
          },
          "metadata": {},
          "execution_count": 55
        }
      ]
    },
    {
      "cell_type": "code",
      "source": [
        "def minsearch_search(query, course):\n",
        "    boost = {'question': 3.0, 'section': 0.5}\n",
        "\n",
        "    results = index.search(\n",
        "        query=query,\n",
        "        filter_dict={'course': course},\n",
        "        boost_dict=boost,\n",
        "        num_results=5\n",
        "    )\n",
        "\n",
        "    return results"
      ],
      "metadata": {
        "id": "rSe3ArxHqr_W"
      },
      "execution_count": null,
      "outputs": []
    },
    {
      "cell_type": "code",
      "source": [
        "relevance_total = []\n",
        "\n",
        "for q in tqdm(ground_truth):\n",
        "    doc_id = q['document']\n",
        "    results = minsearch_search(query=q['question'], course=q['course'])\n",
        "    relevance = [d['id'] == doc_id for d in results]\n",
        "    relevance_total.append(relevance)"
      ],
      "metadata": {
        "colab": {
          "base_uri": "https://localhost:8080/",
          "height": 49,
          "referenced_widgets": [
            "7b34d70db4814eb0accaa4ea7720ef0a",
            "e51025c94f2444dea83c9cd55a4a3374",
            "6cd41b63803e439a86e180b1777b63fd",
            "860f9b946e8d4e24b8b14a0003796fee",
            "a058bb9a67bc4b678e640349d7f69f06",
            "a09b18a0b77f42348769fd8ccb427bdb",
            "7b73e81427fc4d5c8d11cede360e2bee",
            "cb3bcfee214b4c8cb733d22d16f41ec7",
            "3e3d1bf13bce4528a39585416e9c4cdd",
            "19d863dff2a042099838b3afa6a0592e",
            "b3c479a152514e6095a58e325225637d"
          ]
        },
        "id": "4uTIUdrfqztQ",
        "outputId": "1a958b36-4a42-430a-8dec-b39fe600ce98"
      },
      "execution_count": null,
      "outputs": [
        {
          "output_type": "display_data",
          "data": {
            "text/plain": [
              "  0%|          | 0/65 [00:00<?, ?it/s]"
            ],
            "application/vnd.jupyter.widget-view+json": {
              "version_major": 2,
              "version_minor": 0,
              "model_id": "7b34d70db4814eb0accaa4ea7720ef0a"
            }
          },
          "metadata": {}
        }
      ]
    },
    {
      "cell_type": "code",
      "source": [
        "hit_rate(relevance_total), mrr(relevance_total)"
      ],
      "metadata": {
        "colab": {
          "base_uri": "https://localhost:8080/"
        },
        "id": "CYWigIh_rGrh",
        "outputId": "268d0c22-8c3c-4911-b6cd-2af3b925cb2f"
      },
      "execution_count": null,
      "outputs": [
        {
          "output_type": "execute_result",
          "data": {
            "text/plain": [
              "(0.7846153846153846, 0.638974358974359)"
            ]
          },
          "metadata": {},
          "execution_count": 58
        }
      ]
    },
    {
      "cell_type": "markdown",
      "source": [
        "## Compare with ES results:\n",
        "\n",
        "(0.7395720769397017, 0.6032418413658963)\n",
        "\n",
        "Minsearch is higher"
      ],
      "metadata": {
        "id": "gSydKDFGrsFk"
      }
    },
    {
      "cell_type": "markdown",
      "source": [
        "# ground-truth-data.csv"
      ],
      "metadata": {
        "id": "AohCTcrKsMdx"
      }
    },
    {
      "cell_type": "code",
      "source": [
        "def evaluate(ground_truth, search_function):\n",
        "    relevance_total = []\n",
        "\n",
        "    for q in tqdm(ground_truth):\n",
        "        doc_id = q['document']\n",
        "        results = search_function(q)\n",
        "        relevance = [d['id'] == doc_id for d in results]\n",
        "        relevance_total.append(relevance)\n",
        "\n",
        "    return {\n",
        "        'hit_rate': hit_rate(relevance_total),\n",
        "        'mrr': mrr(relevance_total),\n",
        "    }"
      ],
      "metadata": {
        "id": "KR9wD8Vyrfnm"
      },
      "execution_count": null,
      "outputs": []
    },
    {
      "cell_type": "markdown",
      "source": [
        "Elastic Search"
      ],
      "metadata": {
        "id": "05NUUbLKs930"
      }
    },
    {
      "cell_type": "code",
      "source": [
        "evaluate(ground_truth, lambda q: elastic_search(q['question'], q['course']))"
      ],
      "metadata": {
        "colab": {
          "base_uri": "https://localhost:8080/",
          "height": 66,
          "referenced_widgets": [
            "b4121f0a73154f429c063cd27749b4b0",
            "736a933e525b4b4488a9d70567480f67",
            "27704a6aa6494b62b1b7a52b032ae552",
            "2df5d5421f0c474094959ed10e7902a9",
            "5ef5e6ff6926447092562ba682380c21",
            "ed3f8ac4eb9b4af7a5933bd256a20348",
            "9c6d4f772d0f4b7dac298a4f2a3d4f38",
            "9f0e0e6615c64f23af79c9033c80aa1a",
            "01f2f22c0c49498ab8de183081692bb3",
            "21970475830e459fad749eefe1cf6563",
            "c964eec96b93486aa42e8befc016705b"
          ]
        },
        "id": "UHYgdl8wsyJ9",
        "outputId": "62437ede-e546-4c74-834a-6f48faa5a2df"
      },
      "execution_count": null,
      "outputs": [
        {
          "output_type": "display_data",
          "data": {
            "text/plain": [
              "  0%|          | 0/65 [00:00<?, ?it/s]"
            ],
            "application/vnd.jupyter.widget-view+json": {
              "version_major": 2,
              "version_minor": 0,
              "model_id": "b4121f0a73154f429c063cd27749b4b0"
            }
          },
          "metadata": {}
        },
        {
          "output_type": "execute_result",
          "data": {
            "text/plain": [
              "{'hit_rate': 0.6615384615384615, 'mrr': 0.5248717948717949}"
            ]
          },
          "metadata": {},
          "execution_count": 63
        }
      ]
    },
    {
      "cell_type": "markdown",
      "source": [
        "minsearch"
      ],
      "metadata": {
        "id": "xbrh54Dzs__y"
      }
    },
    {
      "cell_type": "code",
      "source": [
        "evaluate(ground_truth, lambda q: minsearch_search(q['question'], q['course']))"
      ],
      "metadata": {
        "colab": {
          "base_uri": "https://localhost:8080/",
          "height": 66,
          "referenced_widgets": [
            "5712309cfa634a728ba89f264b3f1921",
            "fbc8c59aea304755810b3624a4b0de15",
            "d53a53b7d236497cbfa22b6edfe8d93c",
            "0ae1b2a904174c6181afb3ec1f871416",
            "9bca396e42cf483e8e4b719b84e6914e",
            "15bcf2fafc234e36b8875e5219e3f659",
            "23e5d09a7fc54d8097e90bb82ba51c6f",
            "64b9d7168adb4f48ad94c71c5492a562",
            "3c794de6249a45e28ae70cd0b9e7e1b1",
            "f09ca3ba12984c2eb6c323d6b93b4209",
            "7ca9b9f15bdc433789126e10cd618d78"
          ]
        },
        "id": "WeufQr6ks55q",
        "outputId": "4547c572-780d-4444-dab4-ad5f78101034"
      },
      "execution_count": null,
      "outputs": [
        {
          "output_type": "display_data",
          "data": {
            "text/plain": [
              "  0%|          | 0/65 [00:00<?, ?it/s]"
            ],
            "application/vnd.jupyter.widget-view+json": {
              "version_major": 2,
              "version_minor": 0,
              "model_id": "5712309cfa634a728ba89f264b3f1921"
            }
          },
          "metadata": {}
        },
        {
          "output_type": "execute_result",
          "data": {
            "text/plain": [
              "{'hit_rate': 0.7846153846153846, 'mrr': 0.638974358974359}"
            ]
          },
          "metadata": {},
          "execution_count": 64
        }
      ]
    },
    {
      "cell_type": "markdown",
      "source": [
        "# We can make experiment on changing parameters \"fields\" to: question^5\", \"text\""
      ],
      "metadata": {
        "id": "OEzxIelstXG1"
      }
    },
    {
      "cell_type": "code",
      "source": [
        "def elastic_search(query, course):\n",
        "    search_query = {\n",
        "        \"size\": 5,\n",
        "        \"query\": {\n",
        "            \"bool\": {\n",
        "                \"must\": {\n",
        "                    \"multi_match\": {\n",
        "                        \"query\": query,\n",
        "                        \"fields\": [\"question^3\", \"text\"],\n",
        "                        \"type\": \"best_fields\"\n",
        "                    }\n",
        "                },\n",
        "                \"filter\": {\n",
        "                    \"term\": {\n",
        "                        \"course\": course\n",
        "                    }\n",
        "                }\n",
        "            }\n",
        "        }\n",
        "    }\n",
        "\n",
        "    response = es_client.search(index=index_name, body=search_query)\n",
        "\n",
        "    result_docs = []\n",
        "\n",
        "    for hit in response['hits']['hits']:\n",
        "        result_docs.append(hit['_source'])\n",
        "\n",
        "    return result_docs"
      ],
      "metadata": {
        "id": "wilc7YLktWZG"
      },
      "execution_count": null,
      "outputs": []
    },
    {
      "cell_type": "code",
      "source": [
        "evaluate(ground_truth, lambda q: elastic_search(q['question'], q['course']))"
      ],
      "metadata": {
        "colab": {
          "base_uri": "https://localhost:8080/",
          "height": 66,
          "referenced_widgets": [
            "f33c5771a7224fdb8359d1c0165abba8",
            "dcb2f5d103094d368dfef40c6c0baeb6",
            "c5d73fa28740496991b84069e7fc99b3",
            "e329e13d4e2b4dcb9362531f3b5051d0",
            "b5f002cf36bd46aeb407ad88eb7e2cc2",
            "e840eef6e96c4e0494949065858cd94a",
            "6ebe166018bc41acbd284d6fc53bc9ed",
            "3ee9b716b6a44da39756c00fc9bbabca",
            "80f795fe830148189fbd9aaffe7cf434",
            "2f82d259d80440ac8fc9407785cf67f8",
            "df176e9eef0247a087ea4d20eb3e5bc6"
          ]
        },
        "id": "ZaFn4hP9tnFj",
        "outputId": "5d1a8c9a-76e6-4048-81ab-17b5ba78939d"
      },
      "execution_count": null,
      "outputs": [
        {
          "output_type": "display_data",
          "data": {
            "text/plain": [
              "  0%|          | 0/65 [00:00<?, ?it/s]"
            ],
            "application/vnd.jupyter.widget-view+json": {
              "version_major": 2,
              "version_minor": 0,
              "model_id": "f33c5771a7224fdb8359d1c0165abba8"
            }
          },
          "metadata": {}
        },
        {
          "output_type": "execute_result",
          "data": {
            "text/plain": [
              "{'hit_rate': 0.6615384615384615, 'mrr': 0.5248717948717949}"
            ]
          },
          "metadata": {},
          "execution_count": 66
        }
      ]
    }
  ]
}